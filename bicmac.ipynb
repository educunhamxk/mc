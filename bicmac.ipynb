{
  "nbformat": 4,
  "nbformat_minor": 0,
  "metadata": {
    "colab": {
      "provenance": []
    },
    "kernelspec": {
      "name": "python3",
      "display_name": "Python 3"
    },
    "language_info": {
      "name": "python"
    }
  },
  "cells": [
    {
      "cell_type": "markdown",
      "source": [
        "O objetido do projeto é analisar uma base de preços de BicMac e construir um modelo que seja possível projetar o preço através do país e data de projeção.\n",
        "\n",
        "base: https://www.kaggle.com/datasets/vittoriogiatti/bigmacprice"
      ],
      "metadata": {
        "id": "K5ASs0NhrPRm"
      }
    },
    {
      "cell_type": "markdown",
      "source": [
        "Import das bibliotecas"
      ],
      "metadata": {
        "id": "84YRTNkQaPc3"
      }
    },
    {
      "cell_type": "code",
      "execution_count": null,
      "metadata": {
        "id": "ElMleGTTRWhx"
      },
      "outputs": [],
      "source": [
        "import pandas as pd\n",
        "import matplotlib.pyplot as plt\n",
        "from sklearn.model_selection import StratifiedShuffleSplit\n",
        "import numpy as np\n",
        "from sklearn.preprocessing import MinMaxScaler\n",
        "from sklearn.linear_model import LinearRegression\n",
        "from sklearn.metrics import mean_squared_error, mean_absolute_error, r2_score\n",
        "from sklearn.tree import DecisionTreeRegressor\n",
        "from sklearn.model_selection import cross_val_score\n",
        "from sklearn.model_selection import GridSearchCV\n",
        "from sklearn.ensemble import RandomForestRegressor\n",
        "import joblib"
      ]
    },
    {
      "cell_type": "markdown",
      "source": [
        "Import do arquivo"
      ],
      "metadata": {
        "id": "A8XMbUX8aN6i"
      }
    },
    {
      "cell_type": "code",
      "source": [
        "df = pd.read_csv(\"BigmacPrice.csv\",delimiter=\";\")"
      ],
      "metadata": {
        "id": "kS5ULdniV0Kt"
      },
      "execution_count": null,
      "outputs": []
    },
    {
      "cell_type": "code",
      "source": [
        "df.info()"
      ],
      "metadata": {
        "colab": {
          "base_uri": "https://localhost:8080/"
        },
        "id": "e7dA6awAWJbx",
        "outputId": "d5b7772e-3441-4ce0-f9f4-556fa64d3066"
      },
      "execution_count": null,
      "outputs": [
        {
          "output_type": "stream",
          "name": "stdout",
          "text": [
            "<class 'pandas.core.frame.DataFrame'>\n",
            "RangeIndex: 1946 entries, 0 to 1945\n",
            "Data columns (total 6 columns):\n",
            " #   Column         Non-Null Count  Dtype  \n",
            "---  ------         --------------  -----  \n",
            " 0   date           1946 non-null   object \n",
            " 1   currency_code  1946 non-null   object \n",
            " 2   name           1946 non-null   object \n",
            " 3   local_price    1946 non-null   object \n",
            " 4   dollar_ex      1946 non-null   int64  \n",
            " 5   dollar_price   1946 non-null   float64\n",
            "dtypes: float64(1), int64(1), object(4)\n",
            "memory usage: 91.3+ KB\n"
          ]
        }
      ]
    },
    {
      "cell_type": "markdown",
      "source": [
        "Temos 6 colunas na base e três colunas vinculadas com o preço: preço do dólar, taxa de conversão do dólar e preço local. Para simplificar vamos trabalhar apenas com a coluna de preço em dólar."
      ],
      "metadata": {
        "id": "u2H1rW3VWMF3"
      }
    },
    {
      "cell_type": "code",
      "source": [
        "df = df.drop(columns=['local_price','dollar_ex'])"
      ],
      "metadata": {
        "id": "z_j3OfFrV9YP"
      },
      "execution_count": null,
      "outputs": []
    },
    {
      "cell_type": "markdown",
      "source": [
        "Vamos analisar a distribuição da variável de preço."
      ],
      "metadata": {
        "id": "6rW4XnZpW5Bj"
      }
    },
    {
      "cell_type": "code",
      "source": [
        "df['dollar_price'].describe()"
      ],
      "metadata": {
        "colab": {
          "base_uri": "https://localhost:8080/"
        },
        "id": "Qh2cg6G7XSE9",
        "outputId": "aa1ec71a-a07a-41e8-f1ea-3e09bf4d9046"
      },
      "execution_count": null,
      "outputs": [
        {
          "output_type": "execute_result",
          "data": {
            "text/plain": [
              "count    1946.000000\n",
              "mean        3.568011\n",
              "std         1.417054\n",
              "min         0.000000\n",
              "25%         2.572500\n",
              "50%         3.400000\n",
              "75%         4.240000\n",
              "max        11.250000\n",
              "Name: dollar_price, dtype: float64"
            ]
          },
          "metadata": {},
          "execution_count": 27
        }
      ]
    },
    {
      "cell_type": "markdown",
      "source": [
        "Temos um valor médio de 3,5 dólares na base, um desvio padrão de 1,4. O mínimo de 0, primeiro quartil de 2,5, mediana de 3,4 e o terceiro quartil de 4,2. O valor máximo ficou em 11,25."
      ],
      "metadata": {
        "id": "Dm78Naj3XcYV"
      }
    },
    {
      "cell_type": "markdown",
      "source": [
        "Temos uma distribuição assimétrica com cauda para a direita, vamos confirmar isso através da função skew e da função kurt."
      ],
      "metadata": {
        "id": "XokdoSGUY3eC"
      }
    },
    {
      "cell_type": "code",
      "source": [
        "df['dollar_price'].skew()"
      ],
      "metadata": {
        "colab": {
          "base_uri": "https://localhost:8080/"
        },
        "id": "Q5iqyx1gYjhO",
        "outputId": "fc269334-afc7-4bed-febf-b3f430ff5cc4"
      },
      "execution_count": null,
      "outputs": [
        {
          "output_type": "execute_result",
          "data": {
            "text/plain": [
              "0.931765289186794"
            ]
          },
          "metadata": {},
          "execution_count": 28
        }
      ]
    },
    {
      "cell_type": "code",
      "source": [
        "df['dollar_price'].kurt()"
      ],
      "metadata": {
        "colab": {
          "base_uri": "https://localhost:8080/"
        },
        "id": "e4kpfMJLZUmj",
        "outputId": "c394fca6-9ffb-4682-a01f-0c51a76d33d8"
      },
      "execution_count": null,
      "outputs": [
        {
          "output_type": "execute_result",
          "data": {
            "text/plain": [
              "1.3252545474981923"
            ]
          },
          "metadata": {},
          "execution_count": 29
        }
      ]
    },
    {
      "cell_type": "markdown",
      "source": [
        "O valor positivo da função skew indica que os dados são assimétricos à direita, e o valor positivo da função kurt indica que temos outliers mais representativos do que em uma distribuição normal."
      ],
      "metadata": {
        "id": "aF7C5XAUZaxw"
      }
    },
    {
      "cell_type": "code",
      "source": [
        "plt.figure(figsize=(3,3))\n",
        "df['dollar_price'].plot(kind='box')\n",
        "plt.plot()"
      ],
      "metadata": {
        "colab": {
          "base_uri": "https://localhost:8080/",
          "height": 308
        },
        "id": "tiexX3GgYFnq",
        "outputId": "56fcd426-ce72-4c10-e6c6-076880570919"
      },
      "execution_count": null,
      "outputs": [
        {
          "output_type": "execute_result",
          "data": {
            "text/plain": [
              "[]"
            ]
          },
          "metadata": {},
          "execution_count": 31
        },
        {
          "output_type": "display_data",
          "data": {
            "text/plain": [
              "<Figure size 300x300 with 1 Axes>"
            ],
            "image/png": "[encoded data removed]"
          },
          "metadata": {}
        }
      ]
    },
    {
      "cell_type": "code",
      "source": [
        "plt.figure(figsize=(8,3))\n",
        "df['dollar_price'].hist()\n",
        "plt.plot()"
      ],
      "metadata": {
        "colab": {
          "base_uri": "https://localhost:8080/",
          "height": 308
        },
        "id": "SCaOE802W4Y6",
        "outputId": "e2a2236c-edf8-40b6-f109-583bd8b754a2"
      },
      "execution_count": null,
      "outputs": [
        {
          "output_type": "execute_result",
          "data": {
            "text/plain": [
              "[]"
            ]
          },
          "metadata": {},
          "execution_count": 32
        },
        {
          "output_type": "display_data",
          "data": {
            "text/plain": [
              "<Figure size 800x300 with 1 Axes>"
            ],
            "image/png": "[encoded data removed]"
          },
          "metadata": {}
        }
      ]
    },
    {
      "cell_type": "markdown",
      "source": [
        "Os gráficos confirmaram a presença de outliers e a distribuição assimétrica com cauda a direita. Vamos avaliar inicialmente os outliers superiores e em seguida os registros zerados."
      ],
      "metadata": {
        "id": "wLpgThACalNq"
      }
    },
    {
      "cell_type": "code",
      "source": [
        "primeiro_quartil = df['dollar_price'].quantile(0.25)\n",
        "terceiro_quartil = df['dollar_price'].quantile(0.75)\n",
        "\n",
        "intervalo_interquartilico = terceiro_quartil - primeiro_quartil\n",
        "limite_superior = terceiro_quartil + (intervalo_interquartilico * 1.5)\n",
        "limite_inferior = primeiro_quartil - (intervalo_interquartilico * 1.5)\n",
        "\n",
        "print(\"limite superior: \", limite_superior)\n",
        "print(\"limite inferior: \", limite_inferior)\n",
        "print(\"----------------------------------\")\n",
        "print(\"Total de registros: \", df.shape[0])\n",
        "\n",
        "print(\"Quantidade de registros acima do limite superior: \", df[df['dollar_price'] > limite_superior].shape[0])\n",
        "print(\"Quantidade de registros abaixo do limite inferior: \", df[df['dollar_price'] < limite_inferior].shape[0])"
      ],
      "metadata": {
        "colab": {
          "base_uri": "https://localhost:8080/"
        },
        "id": "2CdSlsolajRN",
        "outputId": "53714038-825d-4d2a-bc51-8c1a6d0bdc5e"
      },
      "execution_count": null,
      "outputs": [
        {
          "output_type": "stream",
          "name": "stdout",
          "text": [
            "limite superior:  6.73\n",
            "limite inferior:  0.08999999999999986\n",
            "----------------------------------\n",
            "Total de registros:  1945\n",
            "Quantidade de registros acima do limite superior:  58\n",
            "Quantidade de registros abaixo do limite inferior:  0\n"
          ]
        }
      ]
    },
    {
      "cell_type": "markdown",
      "source": [
        "Pelo intervalo interquartilico consideramos como outliers preços acima de 6,7 e abaixo de 0,7 dolares. Abaixo temos apenas um registro, vamos avaliá-lo."
      ],
      "metadata": {
        "id": "n1AtVvIsdV_a"
      }
    },
    {
      "cell_type": "code",
      "source": [
        "df[df['dollar_price'] < limite_inferior]"
      ],
      "metadata": {
        "colab": {
          "base_uri": "https://localhost:8080/",
          "height": 49
        },
        "id": "_C-2rI2XdkQ4",
        "outputId": "51f0eeb6-46f5-4598-bc9d-6e40f0447db0"
      },
      "execution_count": null,
      "outputs": [
        {
          "output_type": "execute_result",
          "data": {
            "text/plain": [
              "Empty DataFrame\n",
              "Columns: [date, currency_code, name, dollar_price]\n",
              "Index: []"
            ],
            "text/html": [
              "\n",
              "  <div id=\"df-5e7a5513-e15f-4161-a9a3-63c08469665b\">\n",
              "    <div class=\"colab-df-container\">\n",
              "      <div>\n",
              "<style scoped>\n",
              "    .dataframe tbody tr th:only-of-type {\n",
              "        vertical-align: middle;\n",
              "    }\n",
              "\n",
              "    .dataframe tbody tr th {\n",
              "        vertical-align: top;\n",
              "    }\n",
              "\n",
              "    .dataframe thead th {\n",
              "        text-align: right;\n",
              "    }\n",
              "</style>\n",
              "<table border=\"1\" class=\"dataframe\">\n",
              "  <thead>\n",
              "    <tr style=\"text-align: right;\">\n",
              "      <th></th>\n",
              "      <th>date</th>\n",
              "      <th>currency_code</th>\n",
              "      <th>name</th>\n",
              "      <th>dollar_price</th>\n",
              "    </tr>\n",
              "  </thead>\n",
              "  <tbody>\n",
              "  </tbody>\n",
              "</table>\n",
              "</div>\n",
              "      <button class=\"colab-df-convert\" onclick=\"convertToInteractive('df-5e7a5513-e15f-4161-a9a3-63c08469665b')\"\n",
              "              title=\"Convert this dataframe to an interactive table.\"\n",
              "              style=\"display:none;\">\n",
              "        \n",
              "  <svg xmlns=\"http://www.w3.org/2000/svg\" height=\"24px\"viewBox=\"0 0 24 24\"\n",
              "       width=\"24px\">\n",
              "    <path d=\"M0 0h24v24H0V0z\" fill=\"none\"/>\n",
              "    <path d=\"M18.56 5.44l.94 2.06.94-2.06 2.06-.94-2.06-.94-.94-2.06-.94 2.06-2.06.94zm-11 1L8.5 8.5l.94-2.06 2.06-.94-2.06-.94L8.5 2.5l-.94 2.06-2.06.94zm10 10l.94 2.06.94-2.06 2.06-.94-2.06-.94-.94-2.06-.94 2.06-2.06.94z\"/><path d=\"M17.41 7.96l-1.37-1.37c-.4-.4-.92-.59-1.43-.59-.52 0-1.04.2-1.43.59L10.3 9.45l-7.72 7.72c-.78.78-.78 2.05 0 2.83L4 21.41c.39.39.9.59 1.41.59.51 0 1.02-.2 1.41-.59l7.78-7.78 2.81-2.81c.8-.78.8-2.07 0-2.86zM5.41 20L4 18.59l7.72-7.72 1.47 1.35L5.41 20z\"/>\n",
              "  </svg>\n",
              "      </button>\n",
              "      \n",
              "  <style>\n",
              "    .colab-df-container {\n",
              "      display:flex;\n",
              "      flex-wrap:wrap;\n",
              "      gap: 12px;\n",
              "    }\n",
              "\n",
              "    .colab-df-convert {\n",
              "      background-color: #E8F0FE;\n",
              "      border: none;\n",
              "      border-radius: 50%;\n",
              "      cursor: pointer;\n",
              "      display: none;\n",
              "      fill: #1967D2;\n",
              "      height: 32px;\n",
              "      padding: 0 0 0 0;\n",
              "      width: 32px;\n",
              "    }\n",
              "\n",
              "    .colab-df-convert:hover {\n",
              "      background-color: #E2EBFA;\n",
              "      box-shadow: 0px 1px 2px rgba(60, 64, 67, 0.3), 0px 1px 3px 1px rgba(60, 64, 67, 0.15);\n",
              "      fill: #174EA6;\n",
              "    }\n",
              "\n",
              "    [theme=dark] .colab-df-convert {\n",
              "      background-color: #3B4455;\n",
              "      fill: #D2E3FC;\n",
              "    }\n",
              "\n",
              "    [theme=dark] .colab-df-convert:hover {\n",
              "      background-color: #434B5C;\n",
              "      box-shadow: 0px 1px 3px 1px rgba(0, 0, 0, 0.15);\n",
              "      filter: drop-shadow(0px 1px 2px rgba(0, 0, 0, 0.3));\n",
              "      fill: #FFFFFF;\n",
              "    }\n",
              "  </style>\n",
              "\n",
              "      <script>\n",
              "        const buttonEl =\n",
              "          document.querySelector('#df-5e7a5513-e15f-4161-a9a3-63c08469665b button.colab-df-convert');\n",
              "        buttonEl.style.display =\n",
              "          google.colab.kernel.accessAllowed ? 'block' : 'none';\n",
              "\n",
              "        async function convertToInteractive(key) {\n",
              "          const element = document.querySelector('#df-5e7a5513-e15f-4161-a9a3-63c08469665b');\n",
              "          const dataTable =\n",
              "            await google.colab.kernel.invokeFunction('convertToInteractive',\n",
              "                                                     [key], {});\n",
              "          if (!dataTable) return;\n",
              "\n",
              "          const docLinkHtml = 'Like what you see? Visit the ' +\n",
              "            '<a target=\"_blank\" href=https://colab.research.google.com/notebooks/data_table.ipynb>data table notebook</a>'\n",
              "            + ' to learn more about interactive tables.';\n",
              "          element.innerHTML = '';\n",
              "          dataTable['output_type'] = 'display_data';\n",
              "          await google.colab.output.renderOutput(dataTable, element);\n",
              "          const docLink = document.createElement('div');\n",
              "          docLink.innerHTML = docLinkHtml;\n",
              "          element.appendChild(docLink);\n",
              "        }\n",
              "      </script>\n",
              "    </div>\n",
              "  </div>\n",
              "  "
            ]
          },
          "metadata": {},
          "execution_count": 34
        }
      ]
    },
    {
      "cell_type": "markdown",
      "source": [
        "Como é apenas um único registro iremos exclui-lo."
      ],
      "metadata": {
        "id": "iD17OtTldnQZ"
      }
    },
    {
      "cell_type": "code",
      "source": [
        "df = df[df['dollar_price'] > limite_inferior]"
      ],
      "metadata": {
        "id": "RiTjPjo0dqM9"
      },
      "execution_count": null,
      "outputs": []
    },
    {
      "cell_type": "markdown",
      "source": [
        "Agora vamos avaliar os outliers superiores."
      ],
      "metadata": {
        "id": "YfwgPkYOdr62"
      }
    },
    {
      "cell_type": "code",
      "source": [
        "df[df['dollar_price'] > limite_superior]"
      ],
      "metadata": {
        "colab": {
          "base_uri": "https://localhost:8080/",
          "height": 1000
        },
        "id": "qdt8oRKudExP",
        "outputId": "854141b6-56ee-405a-c3b0-5886ba8f002d"
      },
      "execution_count": null,
      "outputs": [
        {
          "output_type": "execute_result",
          "data": {
            "text/plain": [
              "            date currency_code         name  dollar_price\n",
              "254   01/05/2006           NOK       Norway          7.17\n",
              "295   01/01/2007           NOK       Norway          6.92\n",
              "318   01/06/2007           BRL       Brazil          6.90\n",
              "336   01/06/2007           NOK       Norway          8.00\n",
              "359   01/06/2008           BRL       Brazil          7.50\n",
              "367   01/06/2008           DKK      Denmark          7.00\n",
              "377   01/06/2008           NOK       Norway          8.00\n",
              "388   01/06/2008           SEK       Sweden          7.60\n",
              "399   01/07/2009           BRL       Brazil          8.03\n",
              "440   01/01/2010           BRL       Brazil          8.20\n",
              "459   01/01/2010           NOK       Norway          8.00\n",
              "481   01/07/2010           BRL       Brazil          8.71\n",
              "500   01/07/2010           NOK       Norway          7.50\n",
              "511   01/07/2010           SEK       Sweden          6.91\n",
              "524   01/07/2011           BRL       Brazil          9.50\n",
              "552   01/07/2011           NOK       Norway          9.00\n",
              "565   01/07/2011           SEK       Sweden          8.07\n",
              "574   01/07/2011           VEF    Venezuela          7.00\n",
              "579   01/01/2012           BRL       Brazil         10.25\n",
              "607   01/01/2012           NOK       Norway          6.83\n",
              "620   01/01/2012           SEK       Sweden          6.83\n",
              "629   01/01/2012           VEF    Venezuela          7.50\n",
              "661   01/07/2012           NOK       Norway          7.17\n",
              "677   01/07/2012           TRY       Turkey          8.25\n",
              "682   01/07/2012           VEF    Venezuela          8.50\n",
              "687   01/01/2013           BRL       Brazil         11.25\n",
              "715   01/01/2013           NOK       Norway          8.60\n",
              "728   01/01/2013           SEK       Sweden          6.76\n",
              "732   01/01/2013           TRY       Turkey          8.45\n",
              "737   01/01/2013           VEF    Venezuela          9.75\n",
              "770   01/07/2013           NOK       Norway          7.67\n",
              "783   01/07/2013           SEK       Sweden          6.94\n",
              "787   01/07/2013           TRY       Turkey          8.50\n",
              "792   01/07/2013           VEF    Venezuela          7.50\n",
              "826   01/01/2014           NOK       Norway          8.00\n",
              "839   01/01/2014           SEK       Sweden          6.78\n",
              "848   01/01/2014           VEF    Venezuela          7.50\n",
              "882   01/07/2014           NOK       Norway          8.00\n",
              "895   01/07/2014           SEK       Sweden          6.78\n",
              "904   01/07/2014           VEF    Venezuela          6.82\n",
              "910   01/01/2015           BRL       Brazil          6.75\n",
              "938   01/01/2015           NOK       Norway          6.86\n",
              "1274  01/01/2018           NOK       Norway          7.00\n",
              "1378  01/01/2019           CAD       Canada          6.77\n",
              "1450  09/07/2019           CAD       Canada          6.77\n",
              "1522  14/01/2020           CAD       Canada          6.77\n",
              "1594  01/07/2020           CAD       Canada          6.88\n",
              "1666  01/01/2021           CAD       Canada          6.77\n",
              "1700  01/01/2021           NZD  New Zealand          6.80\n",
              "1738  01/07/2021           CAD       Canada          6.77\n",
              "1772  01/07/2021           NZD  New Zealand          6.90\n",
              "1792  01/07/2021           SEK       Sweden          6.75\n",
              "1811  01/01/2022           CAD       Canada          6.77\n",
              "1845  01/01/2022           NZD  New Zealand          7.00\n",
              "1847  01/01/2022           NOK       Norway          7.12\n",
              "1884  01/07/2022           CAD       Canada          6.77\n",
              "1917  01/07/2022           NZD  New Zealand          7.10\n",
              "1919  01/07/2022           NOK       Norway          6.89"
            ],
            "text/html": [
              "\n",
              "  <div id=\"df-f988fd18-b60a-4578-9009-e5f5749353f5\">\n",
              "    <div class=\"colab-df-container\">\n",
              "      <div>\n",
              "<style scoped>\n",
              "    .dataframe tbody tr th:only-of-type {\n",
              "        vertical-align: middle;\n",
              "    }\n",
              "\n",
              "    .dataframe tbody tr th {\n",
              "        vertical-align: top;\n",
              "    }\n",
              "\n",
              "    .dataframe thead th {\n",
              "        text-align: right;\n",
              "    }\n",
              "</style>\n",
              "<table border=\"1\" class=\"dataframe\">\n",
              "  <thead>\n",
              "    <tr style=\"text-align: right;\">\n",
              "      <th></th>\n",
              "      <th>date</th>\n",
              "      <th>currency_code</th>\n",
              "      <th>name</th>\n",
              "      <th>dollar_price</th>\n",
              "    </tr>\n",
              "  </thead>\n",
              "  <tbody>\n",
              "    <tr>\n",
              "      <th>254</th>\n",
              "      <td>01/05/2006</td>\n",
              "      <td>NOK</td>\n",
              "      <td>Norway</td>\n",
              "      <td>7.17</td>\n",
              "    </tr>\n",
              "    <tr>\n",
              "      <th>295</th>\n",
              "      <td>01/01/2007</td>\n",
              "      <td>NOK</td>\n",
              "      <td>Norway</td>\n",
              "      <td>6.92</td>\n",
              "    </tr>\n",
              "    <tr>\n",
              "      <th>318</th>\n",
              "      <td>01/06/2007</td>\n",
              "      <td>BRL</td>\n",
              "      <td>Brazil</td>\n",
              "      <td>6.90</td>\n",
              "    </tr>\n",
              "    <tr>\n",
              "      <th>336</th>\n",
              "      <td>01/06/2007</td>\n",
              "      <td>NOK</td>\n",
              "      <td>Norway</td>\n",
              "      <td>8.00</td>\n",
              "    </tr>\n",
              "    <tr>\n",
              "      <th>359</th>\n",
              "      <td>01/06/2008</td>\n",
              "      <td>BRL</td>\n",
              "      <td>Brazil</td>\n",
              "      <td>7.50</td>\n",
              "    </tr>\n",
              "    <tr>\n",
              "      <th>367</th>\n",
              "      <td>01/06/2008</td>\n",
              "      <td>DKK</td>\n",
              "      <td>Denmark</td>\n",
              "      <td>7.00</td>\n",
              "    </tr>\n",
              "    <tr>\n",
              "      <th>377</th>\n",
              "      <td>01/06/2008</td>\n",
              "      <td>NOK</td>\n",
              "      <td>Norway</td>\n",
              "      <td>8.00</td>\n",
              "    </tr>\n",
              "    <tr>\n",
              "      <th>388</th>\n",
              "      <td>01/06/2008</td>\n",
              "      <td>SEK</td>\n",
              "      <td>Sweden</td>\n",
              "      <td>7.60</td>\n",
              "    </tr>\n",
              "    <tr>\n",
              "      <th>399</th>\n",
              "      <td>01/07/2009</td>\n",
              "      <td>BRL</td>\n",
              "      <td>Brazil</td>\n",
              "      <td>8.03</td>\n",
              "    </tr>\n",
              "    <tr>\n",
              "      <th>440</th>\n",
              "      <td>01/01/2010</td>\n",
              "      <td>BRL</td>\n",
              "      <td>Brazil</td>\n",
              "      <td>8.20</td>\n",
              "    </tr>\n",
              "    <tr>\n",
              "      <th>459</th>\n",
              "      <td>01/01/2010</td>\n",
              "      <td>NOK</td>\n",
              "      <td>Norway</td>\n",
              "      <td>8.00</td>\n",
              "    </tr>\n",
              "    <tr>\n",
              "      <th>481</th>\n",
              "      <td>01/07/2010</td>\n",
              "      <td>BRL</td>\n",
              "      <td>Brazil</td>\n",
              "      <td>8.71</td>\n",
              "    </tr>\n",
              "    <tr>\n",
              "      <th>500</th>\n",
              "      <td>01/07/2010</td>\n",
              "      <td>NOK</td>\n",
              "      <td>Norway</td>\n",
              "      <td>7.50</td>\n",
              "    </tr>\n",
              "    <tr>\n",
              "      <th>511</th>\n",
              "      <td>01/07/2010</td>\n",
              "      <td>SEK</td>\n",
              "      <td>Sweden</td>\n",
              "      <td>6.91</td>\n",
              "    </tr>\n",
              "    <tr>\n",
              "      <th>524</th>\n",
              "      <td>01/07/2011</td>\n",
              "      <td>BRL</td>\n",
              "      <td>Brazil</td>\n",
              "      <td>9.50</td>\n",
              "    </tr>\n",
              "    <tr>\n",
              "      <th>552</th>\n",
              "      <td>01/07/2011</td>\n",
              "      <td>NOK</td>\n",
              "      <td>Norway</td>\n",
              "      <td>9.00</td>\n",
              "    </tr>\n",
              "    <tr>\n",
              "      <th>565</th>\n",
              "      <td>01/07/2011</td>\n",
              "      <td>SEK</td>\n",
              "      <td>Sweden</td>\n",
              "      <td>8.07</td>\n",
              "    </tr>\n",
              "    <tr>\n",
              "      <th>574</th>\n",
              "      <td>01/07/2011</td>\n",
              "      <td>VEF</td>\n",
              "      <td>Venezuela</td>\n",
              "      <td>7.00</td>\n",
              "    </tr>\n",
              "    <tr>\n",
              "      <th>579</th>\n",
              "      <td>01/01/2012</td>\n",
              "      <td>BRL</td>\n",
              "      <td>Brazil</td>\n",
              "      <td>10.25</td>\n",
              "    </tr>\n",
              "    <tr>\n",
              "      <th>607</th>\n",
              "      <td>01/01/2012</td>\n",
              "      <td>NOK</td>\n",
              "      <td>Norway</td>\n",
              "      <td>6.83</td>\n",
              "    </tr>\n",
              "    <tr>\n",
              "      <th>620</th>\n",
              "      <td>01/01/2012</td>\n",
              "      <td>SEK</td>\n",
              "      <td>Sweden</td>\n",
              "      <td>6.83</td>\n",
              "    </tr>\n",
              "    <tr>\n",
              "      <th>629</th>\n",
              "      <td>01/01/2012</td>\n",
              "      <td>VEF</td>\n",
              "      <td>Venezuela</td>\n",
              "      <td>7.50</td>\n",
              "    </tr>\n",
              "    <tr>\n",
              "      <th>661</th>\n",
              "      <td>01/07/2012</td>\n",
              "      <td>NOK</td>\n",
              "      <td>Norway</td>\n",
              "      <td>7.17</td>\n",
              "    </tr>\n",
              "    <tr>\n",
              "      <th>677</th>\n",
              "      <td>01/07/2012</td>\n",
              "      <td>TRY</td>\n",
              "      <td>Turkey</td>\n",
              "      <td>8.25</td>\n",
              "    </tr>\n",
              "    <tr>\n",
              "      <th>682</th>\n",
              "      <td>01/07/2012</td>\n",
              "      <td>VEF</td>\n",
              "      <td>Venezuela</td>\n",
              "      <td>8.50</td>\n",
              "    </tr>\n",
              "    <tr>\n",
              "      <th>687</th>\n",
              "      <td>01/01/2013</td>\n",
              "      <td>BRL</td>\n",
              "      <td>Brazil</td>\n",
              "      <td>11.25</td>\n",
              "    </tr>\n",
              "    <tr>\n",
              "      <th>715</th>\n",
              "      <td>01/01/2013</td>\n",
              "      <td>NOK</td>\n",
              "      <td>Norway</td>\n",
              "      <td>8.60</td>\n",
              "    </tr>\n",
              "    <tr>\n",
              "      <th>728</th>\n",
              "      <td>01/01/2013</td>\n",
              "      <td>SEK</td>\n",
              "      <td>Sweden</td>\n",
              "      <td>6.76</td>\n",
              "    </tr>\n",
              "    <tr>\n",
              "      <th>732</th>\n",
              "      <td>01/01/2013</td>\n",
              "      <td>TRY</td>\n",
              "      <td>Turkey</td>\n",
              "      <td>8.45</td>\n",
              "    </tr>\n",
              "    <tr>\n",
              "      <th>737</th>\n",
              "      <td>01/01/2013</td>\n",
              "      <td>VEF</td>\n",
              "      <td>Venezuela</td>\n",
              "      <td>9.75</td>\n",
              "    </tr>\n",
              "    <tr>\n",
              "      <th>770</th>\n",
              "      <td>01/07/2013</td>\n",
              "      <td>NOK</td>\n",
              "      <td>Norway</td>\n",
              "      <td>7.67</td>\n",
              "    </tr>\n",
              "    <tr>\n",
              "      <th>783</th>\n",
              "      <td>01/07/2013</td>\n",
              "      <td>SEK</td>\n",
              "      <td>Sweden</td>\n",
              "      <td>6.94</td>\n",
              "    </tr>\n",
              "    <tr>\n",
              "      <th>787</th>\n",
              "      <td>01/07/2013</td>\n",
              "      <td>TRY</td>\n",
              "      <td>Turkey</td>\n",
              "      <td>8.50</td>\n",
              "    </tr>\n",
              "    <tr>\n",
              "      <th>792</th>\n",
              "      <td>01/07/2013</td>\n",
              "      <td>VEF</td>\n",
              "      <td>Venezuela</td>\n",
              "      <td>7.50</td>\n",
              "    </tr>\n",
              "    <tr>\n",
              "      <th>826</th>\n",
              "      <td>01/01/2014</td>\n",
              "      <td>NOK</td>\n",
              "      <td>Norway</td>\n",
              "      <td>8.00</td>\n",
              "    </tr>\n",
              "    <tr>\n",
              "      <th>839</th>\n",
              "      <td>01/01/2014</td>\n",
              "      <td>SEK</td>\n",
              "      <td>Sweden</td>\n",
              "      <td>6.78</td>\n",
              "    </tr>\n",
              "    <tr>\n",
              "      <th>848</th>\n",
              "      <td>01/01/2014</td>\n",
              "      <td>VEF</td>\n",
              "      <td>Venezuela</td>\n",
              "      <td>7.50</td>\n",
              "    </tr>\n",
              "    <tr>\n",
              "      <th>882</th>\n",
              "      <td>01/07/2014</td>\n",
              "      <td>NOK</td>\n",
              "      <td>Norway</td>\n",
              "      <td>8.00</td>\n",
              "    </tr>\n",
              "    <tr>\n",
              "      <th>895</th>\n",
              "      <td>01/07/2014</td>\n",
              "      <td>SEK</td>\n",
              "      <td>Sweden</td>\n",
              "      <td>6.78</td>\n",
              "    </tr>\n",
              "    <tr>\n",
              "      <th>904</th>\n",
              "      <td>01/07/2014</td>\n",
              "      <td>VEF</td>\n",
              "      <td>Venezuela</td>\n",
              "      <td>6.82</td>\n",
              "    </tr>\n",
              "    <tr>\n",
              "      <th>910</th>\n",
              "      <td>01/01/2015</td>\n",
              "      <td>BRL</td>\n",
              "      <td>Brazil</td>\n",
              "      <td>6.75</td>\n",
              "    </tr>\n",
              "    <tr>\n",
              "      <th>938</th>\n",
              "      <td>01/01/2015</td>\n",
              "      <td>NOK</td>\n",
              "      <td>Norway</td>\n",
              "      <td>6.86</td>\n",
              "    </tr>\n",
              "    <tr>\n",
              "      <th>1274</th>\n",
              "      <td>01/01/2018</td>\n",
              "      <td>NOK</td>\n",
              "      <td>Norway</td>\n",
              "      <td>7.00</td>\n",
              "    </tr>\n",
              "    <tr>\n",
              "      <th>1378</th>\n",
              "      <td>01/01/2019</td>\n",
              "      <td>CAD</td>\n",
              "      <td>Canada</td>\n",
              "      <td>6.77</td>\n",
              "    </tr>\n",
              "    <tr>\n",
              "      <th>1450</th>\n",
              "      <td>09/07/2019</td>\n",
              "      <td>CAD</td>\n",
              "      <td>Canada</td>\n",
              "      <td>6.77</td>\n",
              "    </tr>\n",
              "    <tr>\n",
              "      <th>1522</th>\n",
              "      <td>14/01/2020</td>\n",
              "      <td>CAD</td>\n",
              "      <td>Canada</td>\n",
              "      <td>6.77</td>\n",
              "    </tr>\n",
              "    <tr>\n",
              "      <th>1594</th>\n",
              "      <td>01/07/2020</td>\n",
              "      <td>CAD</td>\n",
              "      <td>Canada</td>\n",
              "      <td>6.88</td>\n",
              "    </tr>\n",
              "    <tr>\n",
              "      <th>1666</th>\n",
              "      <td>01/01/2021</td>\n",
              "      <td>CAD</td>\n",
              "      <td>Canada</td>\n",
              "      <td>6.77</td>\n",
              "    </tr>\n",
              "    <tr>\n",
              "      <th>1700</th>\n",
              "      <td>01/01/2021</td>\n",
              "      <td>NZD</td>\n",
              "      <td>New Zealand</td>\n",
              "      <td>6.80</td>\n",
              "    </tr>\n",
              "    <tr>\n",
              "      <th>1738</th>\n",
              "      <td>01/07/2021</td>\n",
              "      <td>CAD</td>\n",
              "      <td>Canada</td>\n",
              "      <td>6.77</td>\n",
              "    </tr>\n",
              "    <tr>\n",
              "      <th>1772</th>\n",
              "      <td>01/07/2021</td>\n",
              "      <td>NZD</td>\n",
              "      <td>New Zealand</td>\n",
              "      <td>6.90</td>\n",
              "    </tr>\n",
              "    <tr>\n",
              "      <th>1792</th>\n",
              "      <td>01/07/2021</td>\n",
              "      <td>SEK</td>\n",
              "      <td>Sweden</td>\n",
              "      <td>6.75</td>\n",
              "    </tr>\n",
              "    <tr>\n",
              "      <th>1811</th>\n",
              "      <td>01/01/2022</td>\n",
              "      <td>CAD</td>\n",
              "      <td>Canada</td>\n",
              "      <td>6.77</td>\n",
              "    </tr>\n",
              "    <tr>\n",
              "      <th>1845</th>\n",
              "      <td>01/01/2022</td>\n",
              "      <td>NZD</td>\n",
              "      <td>New Zealand</td>\n",
              "      <td>7.00</td>\n",
              "    </tr>\n",
              "    <tr>\n",
              "      <th>1847</th>\n",
              "      <td>01/01/2022</td>\n",
              "      <td>NOK</td>\n",
              "      <td>Norway</td>\n",
              "      <td>7.12</td>\n",
              "    </tr>\n",
              "    <tr>\n",
              "      <th>1884</th>\n",
              "      <td>01/07/2022</td>\n",
              "      <td>CAD</td>\n",
              "      <td>Canada</td>\n",
              "      <td>6.77</td>\n",
              "    </tr>\n",
              "    <tr>\n",
              "      <th>1917</th>\n",
              "      <td>01/07/2022</td>\n",
              "      <td>NZD</td>\n",
              "      <td>New Zealand</td>\n",
              "      <td>7.10</td>\n",
              "    </tr>\n",
              "    <tr>\n",
              "      <th>1919</th>\n",
              "      <td>01/07/2022</td>\n",
              "      <td>NOK</td>\n",
              "      <td>Norway</td>\n",
              "      <td>6.89</td>\n",
              "    </tr>\n",
              "  </tbody>\n",
              "</table>\n",
              "</div>\n",
              "      <button class=\"colab-df-convert\" onclick=\"convertToInteractive('df-f988fd18-b60a-4578-9009-e5f5749353f5')\"\n",
              "              title=\"Convert this dataframe to an interactive table.\"\n",
              "              style=\"display:none;\">\n",
              "        \n",
              "  <svg xmlns=\"http://www.w3.org/2000/svg\" height=\"24px\"viewBox=\"0 0 24 24\"\n",
              "       width=\"24px\">\n",
              "    <path d=\"M0 0h24v24H0V0z\" fill=\"none\"/>\n",
              "    <path d=\"M18.56 5.44l.94 2.06.94-2.06 2.06-.94-2.06-.94-.94-2.06-.94 2.06-2.06.94zm-11 1L8.5 8.5l.94-2.06 2.06-.94-2.06-.94L8.5 2.5l-.94 2.06-2.06.94zm10 10l.94 2.06.94-2.06 2.06-.94-2.06-.94-.94-2.06-.94 2.06-2.06.94z\"/><path d=\"M17.41 7.96l-1.37-1.37c-.4-.4-.92-.59-1.43-.59-.52 0-1.04.2-1.43.59L10.3 9.45l-7.72 7.72c-.78.78-.78 2.05 0 2.83L4 21.41c.39.39.9.59 1.41.59.51 0 1.02-.2 1.41-.59l7.78-7.78 2.81-2.81c.8-.78.8-2.07 0-2.86zM5.41 20L4 18.59l7.72-7.72 1.47 1.35L5.41 20z\"/>\n",
              "  </svg>\n",
              "      </button>\n",
              "      \n",
              "  <style>\n",
              "    .colab-df-container {\n",
              "      display:flex;\n",
              "      flex-wrap:wrap;\n",
              "      gap: 12px;\n",
              "    }\n",
              "\n",
              "    .colab-df-convert {\n",
              "      background-color: #E8F0FE;\n",
              "      border: none;\n",
              "      border-radius: 50%;\n",
              "      cursor: pointer;\n",
              "      display: none;\n",
              "      fill: #1967D2;\n",
              "      height: 32px;\n",
              "      padding: 0 0 0 0;\n",
              "      width: 32px;\n",
              "    }\n",
              "\n",
              "    .colab-df-convert:hover {\n",
              "      background-color: #E2EBFA;\n",
              "      box-shadow: 0px 1px 2px rgba(60, 64, 67, 0.3), 0px 1px 3px 1px rgba(60, 64, 67, 0.15);\n",
              "      fill: #174EA6;\n",
              "    }\n",
              "\n",
              "    [theme=dark] .colab-df-convert {\n",
              "      background-color: #3B4455;\n",
              "      fill: #D2E3FC;\n",
              "    }\n",
              "\n",
              "    [theme=dark] .colab-df-convert:hover {\n",
              "      background-color: #434B5C;\n",
              "      box-shadow: 0px 1px 3px 1px rgba(0, 0, 0, 0.15);\n",
              "      filter: drop-shadow(0px 1px 2px rgba(0, 0, 0, 0.3));\n",
              "      fill: #FFFFFF;\n",
              "    }\n",
              "  </style>\n",
              "\n",
              "      <script>\n",
              "        const buttonEl =\n",
              "          document.querySelector('#df-f988fd18-b60a-4578-9009-e5f5749353f5 button.colab-df-convert');\n",
              "        buttonEl.style.display =\n",
              "          google.colab.kernel.accessAllowed ? 'block' : 'none';\n",
              "\n",
              "        async function convertToInteractive(key) {\n",
              "          const element = document.querySelector('#df-f988fd18-b60a-4578-9009-e5f5749353f5');\n",
              "          const dataTable =\n",
              "            await google.colab.kernel.invokeFunction('convertToInteractive',\n",
              "                                                     [key], {});\n",
              "          if (!dataTable) return;\n",
              "\n",
              "          const docLinkHtml = 'Like what you see? Visit the ' +\n",
              "            '<a target=\"_blank\" href=https://colab.research.google.com/notebooks/data_table.ipynb>data table notebook</a>'\n",
              "            + ' to learn more about interactive tables.';\n",
              "          element.innerHTML = '';\n",
              "          dataTable['output_type'] = 'display_data';\n",
              "          await google.colab.output.renderOutput(dataTable, element);\n",
              "          const docLink = document.createElement('div');\n",
              "          docLink.innerHTML = docLinkHtml;\n",
              "          element.appendChild(docLink);\n",
              "        }\n",
              "      </script>\n",
              "    </div>\n",
              "  </div>\n",
              "  "
            ]
          },
          "metadata": {},
          "execution_count": 36
        }
      ]
    },
    {
      "cell_type": "markdown",
      "source": [
        "Apesar dos registros serem outliers vemos nitidamente que são casos reais e não fruto de algum problema de dado. Por este motivo inicialmente vamos mante-los na base."
      ],
      "metadata": {
        "id": "FZMsrf4mdxaw"
      }
    },
    {
      "cell_type": "code",
      "source": [
        "df.info()"
      ],
      "metadata": {
        "colab": {
          "base_uri": "https://localhost:8080/"
        },
        "id": "Lhp3kMI5ec4K",
        "outputId": "536aaf75-ff7f-45e8-c716-4185763b8351"
      },
      "execution_count": null,
      "outputs": [
        {
          "output_type": "stream",
          "name": "stdout",
          "text": [
            "<class 'pandas.core.frame.DataFrame'>\n",
            "Int64Index: 1945 entries, 0 to 1945\n",
            "Data columns (total 4 columns):\n",
            " #   Column         Non-Null Count  Dtype  \n",
            "---  ------         --------------  -----  \n",
            " 0   date           1945 non-null   object \n",
            " 1   currency_code  1945 non-null   object \n",
            " 2   name           1945 non-null   object \n",
            " 3   dollar_price   1945 non-null   float64\n",
            "dtypes: float64(1), object(3)\n",
            "memory usage: 76.0+ KB\n"
          ]
        }
      ]
    },
    {
      "cell_type": "markdown",
      "source": [
        "Precisamos tratar os campos de data, tipo de moeda e nome do país antes da construção do modelo. Vamos iniciar tratando a variável de dia, vamos transformá-la em um campo numérico, no qual o primeiro dia será o 0 e iremos acrescentando em uma unidade. Isso permitirá que o modelo consiga entender padrões lineares ao longo do tempo."
      ],
      "metadata": {
        "id": "xKJAcTWsfB7T"
      }
    },
    {
      "cell_type": "code",
      "source": [
        "df['date'] = pd.to_datetime(df['date'])\n",
        "df['date'].value_counts()"
      ],
      "metadata": {
        "colab": {
          "base_uri": "https://localhost:8080/"
        },
        "id": "H-oyxkCZgkRy",
        "outputId": "16af8c0d-d410-4833-dd46-5ead0c3f20d2"
      },
      "execution_count": null,
      "outputs": [
        {
          "output_type": "stream",
          "name": "stderr",
          "text": [
            "<ipython-input-38-3e54dcbcc698>:1: UserWarning: Parsing dates in DD/MM/YYYY format when dayfirst=False (the default) was specified. This may lead to inconsistently parsed dates! Specify a format to ensure consistent parsing.\n",
            "  df['date'] = pd.to_datetime(df['date'])\n"
          ]
        },
        {
          "output_type": "execute_result",
          "data": {
            "text/plain": [
              "2022-01-01    73\n",
              "2021-01-07    73\n",
              "2018-01-07    72\n",
              "2019-01-01    72\n",
              "2021-01-01    72\n",
              "2020-01-07    72\n",
              "2020-01-14    72\n",
              "2019-09-07    72\n",
              "2022-01-07    70\n",
              "2014-01-07    57\n",
              "2014-01-01    56\n",
              "2017-01-07    56\n",
              "2017-01-01    56\n",
              "2016-01-07    56\n",
              "2016-01-01    56\n",
              "2015-01-07    56\n",
              "2015-01-01    56\n",
              "2018-01-01    55\n",
              "2013-01-07    55\n",
              "2012-01-01    55\n",
              "2011-01-07    55\n",
              "2013-01-01    55\n",
              "2012-01-07    53\n",
              "2007-01-06    41\n",
              "2010-01-07    41\n",
              "2010-01-01    41\n",
              "2009-01-07    41\n",
              "2007-01-01    41\n",
              "2006-01-05    41\n",
              "2005-01-06    41\n",
              "2008-01-06    40\n",
              "2004-01-05    40\n",
              "2002-01-04    33\n",
              "2006-01-01    32\n",
              "2003-01-04    32\n",
              "2001-01-04    28\n",
              "2000-01-04    28\n",
              "Name: date, dtype: int64"
            ]
          },
          "metadata": {},
          "execution_count": 38
        }
      ]
    },
    {
      "cell_type": "code",
      "source": [
        "df2 = df.copy()"
      ],
      "metadata": {
        "id": "aJSpBEJWfkMt"
      },
      "execution_count": null,
      "outputs": []
    },
    {
      "cell_type": "code",
      "source": [
        "df2 = df2.sort_values(by=['date'])\n",
        "df2['date'] = pd.to_datetime(df2['date'])\n",
        "df2['data_numerica'] = (df2['date'] - df2['date'].min()).dt.days\n",
        "df2[['date','data_numerica']].tail(100)"
      ],
      "metadata": {
        "colab": {
          "base_uri": "https://localhost:8080/",
          "height": 424
        },
        "id": "0f-UEWd1eqAZ",
        "outputId": "0d4a90e7-ebc2-4c48-d2ad-c13ac0eef049"
      },
      "execution_count": null,
      "outputs": [
        {
          "output_type": "execute_result",
          "data": {
            "text/plain": [
              "           date  data_numerica\n",
              "1812 2022-01-01           8033\n",
              "1811 2022-01-01           8033\n",
              "1810 2022-01-01           8033\n",
              "1809 2022-01-01           8033\n",
              "1808 2022-01-01           8033\n",
              "...         ...            ...\n",
              "1896 2022-01-07           8039\n",
              "1895 2022-01-07           8039\n",
              "1894 2022-01-07           8039\n",
              "1900 2022-01-07           8039\n",
              "1945 2022-01-07           8039\n",
              "\n",
              "[100 rows x 2 columns]"
            ],
            "text/html": [
              "\n",
              "  <div id=\"df-2e5a0478-3b8f-4057-b4e6-ad964551993e\">\n",
              "    <div class=\"colab-df-container\">\n",
              "      <div>\n",
              "<style scoped>\n",
              "    .dataframe tbody tr th:only-of-type {\n",
              "        vertical-align: middle;\n",
              "    }\n",
              "\n",
              "    .dataframe tbody tr th {\n",
              "        vertical-align: top;\n",
              "    }\n",
              "\n",
              "    .dataframe thead th {\n",
              "        text-align: right;\n",
              "    }\n",
              "</style>\n",
              "<table border=\"1\" class=\"dataframe\">\n",
              "  <thead>\n",
              "    <tr style=\"text-align: right;\">\n",
              "      <th></th>\n",
              "      <th>date</th>\n",
              "      <th>data_numerica</th>\n",
              "    </tr>\n",
              "  </thead>\n",
              "  <tbody>\n",
              "    <tr>\n",
              "      <th>1812</th>\n",
              "      <td>2022-01-01</td>\n",
              "      <td>8033</td>\n",
              "    </tr>\n",
              "    <tr>\n",
              "      <th>1811</th>\n",
              "      <td>2022-01-01</td>\n",
              "      <td>8033</td>\n",
              "    </tr>\n",
              "    <tr>\n",
              "      <th>1810</th>\n",
              "      <td>2022-01-01</td>\n",
              "      <td>8033</td>\n",
              "    </tr>\n",
              "    <tr>\n",
              "      <th>1809</th>\n",
              "      <td>2022-01-01</td>\n",
              "      <td>8033</td>\n",
              "    </tr>\n",
              "    <tr>\n",
              "      <th>1808</th>\n",
              "      <td>2022-01-01</td>\n",
              "      <td>8033</td>\n",
              "    </tr>\n",
              "    <tr>\n",
              "      <th>...</th>\n",
              "      <td>...</td>\n",
              "      <td>...</td>\n",
              "    </tr>\n",
              "    <tr>\n",
              "      <th>1896</th>\n",
              "      <td>2022-01-07</td>\n",
              "      <td>8039</td>\n",
              "    </tr>\n",
              "    <tr>\n",
              "      <th>1895</th>\n",
              "      <td>2022-01-07</td>\n",
              "      <td>8039</td>\n",
              "    </tr>\n",
              "    <tr>\n",
              "      <th>1894</th>\n",
              "      <td>2022-01-07</td>\n",
              "      <td>8039</td>\n",
              "    </tr>\n",
              "    <tr>\n",
              "      <th>1900</th>\n",
              "      <td>2022-01-07</td>\n",
              "      <td>8039</td>\n",
              "    </tr>\n",
              "    <tr>\n",
              "      <th>1945</th>\n",
              "      <td>2022-01-07</td>\n",
              "      <td>8039</td>\n",
              "    </tr>\n",
              "  </tbody>\n",
              "</table>\n",
              "<p>100 rows × 2 columns</p>\n",
              "</div>\n",
              "      <button class=\"colab-df-convert\" onclick=\"convertToInteractive('df-2e5a0478-3b8f-4057-b4e6-ad964551993e')\"\n",
              "              title=\"Convert this dataframe to an interactive table.\"\n",
              "              style=\"display:none;\">\n",
              "        \n",
              "  <svg xmlns=\"http://www.w3.org/2000/svg\" height=\"24px\"viewBox=\"0 0 24 24\"\n",
              "       width=\"24px\">\n",
              "    <path d=\"M0 0h24v24H0V0z\" fill=\"none\"/>\n",
              "    <path d=\"M18.56 5.44l.94 2.06.94-2.06 2.06-.94-2.06-.94-.94-2.06-.94 2.06-2.06.94zm-11 1L8.5 8.5l.94-2.06 2.06-.94-2.06-.94L8.5 2.5l-.94 2.06-2.06.94zm10 10l.94 2.06.94-2.06 2.06-.94-2.06-.94-.94-2.06-.94 2.06-2.06.94z\"/><path d=\"M17.41 7.96l-1.37-1.37c-.4-.4-.92-.59-1.43-.59-.52 0-1.04.2-1.43.59L10.3 9.45l-7.72 7.72c-.78.78-.78 2.05 0 2.83L4 21.41c.39.39.9.59 1.41.59.51 0 1.02-.2 1.41-.59l7.78-7.78 2.81-2.81c.8-.78.8-2.07 0-2.86zM5.41 20L4 18.59l7.72-7.72 1.47 1.35L5.41 20z\"/>\n",
              "  </svg>\n",
              "      </button>\n",
              "      \n",
              "  <style>\n",
              "    .colab-df-container {\n",
              "      display:flex;\n",
              "      flex-wrap:wrap;\n",
              "      gap: 12px;\n",
              "    }\n",
              "\n",
              "    .colab-df-convert {\n",
              "      background-color: #E8F0FE;\n",
              "      border: none;\n",
              "      border-radius: 50%;\n",
              "      cursor: pointer;\n",
              "      display: none;\n",
              "      fill: #1967D2;\n",
              "      height: 32px;\n",
              "      padding: 0 0 0 0;\n",
              "      width: 32px;\n",
              "    }\n",
              "\n",
              "    .colab-df-convert:hover {\n",
              "      background-color: #E2EBFA;\n",
              "      box-shadow: 0px 1px 2px rgba(60, 64, 67, 0.3), 0px 1px 3px 1px rgba(60, 64, 67, 0.15);\n",
              "      fill: #174EA6;\n",
              "    }\n",
              "\n",
              "    [theme=dark] .colab-df-convert {\n",
              "      background-color: #3B4455;\n",
              "      fill: #D2E3FC;\n",
              "    }\n",
              "\n",
              "    [theme=dark] .colab-df-convert:hover {\n",
              "      background-color: #434B5C;\n",
              "      box-shadow: 0px 1px 3px 1px rgba(0, 0, 0, 0.15);\n",
              "      filter: drop-shadow(0px 1px 2px rgba(0, 0, 0, 0.3));\n",
              "      fill: #FFFFFF;\n",
              "    }\n",
              "  </style>\n",
              "\n",
              "      <script>\n",
              "        const buttonEl =\n",
              "          document.querySelector('#df-2e5a0478-3b8f-4057-b4e6-ad964551993e button.colab-df-convert');\n",
              "        buttonEl.style.display =\n",
              "          google.colab.kernel.accessAllowed ? 'block' : 'none';\n",
              "\n",
              "        async function convertToInteractive(key) {\n",
              "          const element = document.querySelector('#df-2e5a0478-3b8f-4057-b4e6-ad964551993e');\n",
              "          const dataTable =\n",
              "            await google.colab.kernel.invokeFunction('convertToInteractive',\n",
              "                                                     [key], {});\n",
              "          if (!dataTable) return;\n",
              "\n",
              "          const docLinkHtml = 'Like what you see? Visit the ' +\n",
              "            '<a target=\"_blank\" href=https://colab.research.google.com/notebooks/data_table.ipynb>data table notebook</a>'\n",
              "            + ' to learn more about interactive tables.';\n",
              "          element.innerHTML = '';\n",
              "          dataTable['output_type'] = 'display_data';\n",
              "          await google.colab.output.renderOutput(dataTable, element);\n",
              "          const docLink = document.createElement('div');\n",
              "          docLink.innerHTML = docLinkHtml;\n",
              "          element.appendChild(docLink);\n",
              "        }\n",
              "      </script>\n",
              "    </div>\n",
              "  </div>\n",
              "  "
            ]
          },
          "metadata": {},
          "execution_count": 40
        }
      ]
    },
    {
      "cell_type": "markdown",
      "source": [
        "Agora vamos excluir o campo de data do nosso df"
      ],
      "metadata": {
        "id": "ygFRKipZhLNa"
      }
    },
    {
      "cell_type": "code",
      "source": [
        "df2 = df2.drop(columns=['date'])\n",
        "df2"
      ],
      "metadata": {
        "colab": {
          "base_uri": "https://localhost:8080/",
          "height": 424
        },
        "id": "NzsIpBf7hNV3",
        "outputId": "c38486e0-d9db-4122-eae2-0581f7829d93"
      },
      "execution_count": null,
      "outputs": [
        {
          "output_type": "execute_result",
          "data": {
            "text/plain": [
              "     currency_code           name  dollar_price  data_numerica\n",
              "0              ARS      Argentina          2.50              0\n",
              "27             USD  United States          2.24              0\n",
              "26             THB       Thailand          1.45              0\n",
              "25             TWD         Taiwan          2.33              0\n",
              "24             CHF    Switzerland          5.90              0\n",
              "...            ...            ...           ...            ...\n",
              "1896           EUR        Germany          4.58           8039\n",
              "1895           EUR         France          4.70           8039\n",
              "1894           EUR        Finland          5.25           8039\n",
              "1900           HKD      Hong Kong          3.00           8039\n",
              "1945           VND        Vietnam          2.95           8039\n",
              "\n",
              "[1945 rows x 4 columns]"
            ],
            "text/html": [
              "\n",
              "  <div id=\"df-0dbba8c4-1255-47cc-82af-b6556ffc2789\">\n",
              "    <div class=\"colab-df-container\">\n",
              "      <div>\n",
              "<style scoped>\n",
              "    .dataframe tbody tr th:only-of-type {\n",
              "        vertical-align: middle;\n",
              "    }\n",
              "\n",
              "    .dataframe tbody tr th {\n",
              "        vertical-align: top;\n",
              "    }\n",
              "\n",
              "    .dataframe thead th {\n",
              "        text-align: right;\n",
              "    }\n",
              "</style>\n",
              "<table border=\"1\" class=\"dataframe\">\n",
              "  <thead>\n",
              "    <tr style=\"text-align: right;\">\n",
              "      <th></th>\n",
              "      <th>currency_code</th>\n",
              "      <th>name</th>\n",
              "      <th>dollar_price</th>\n",
              "      <th>data_numerica</th>\n",
              "    </tr>\n",
              "  </thead>\n",
              "  <tbody>\n",
              "    <tr>\n",
              "      <th>0</th>\n",
              "      <td>ARS</td>\n",
              "      <td>Argentina</td>\n",
              "      <td>2.50</td>\n",
              "      <td>0</td>\n",
              "    </tr>\n",
              "    <tr>\n",
              "      <th>27</th>\n",
              "      <td>USD</td>\n",
              "      <td>United States</td>\n",
              "      <td>2.24</td>\n",
              "      <td>0</td>\n",
              "    </tr>\n",
              "    <tr>\n",
              "      <th>26</th>\n",
              "      <td>THB</td>\n",
              "      <td>Thailand</td>\n",
              "      <td>1.45</td>\n",
              "      <td>0</td>\n",
              "    </tr>\n",
              "    <tr>\n",
              "      <th>25</th>\n",
              "      <td>TWD</td>\n",
              "      <td>Taiwan</td>\n",
              "      <td>2.33</td>\n",
              "      <td>0</td>\n",
              "    </tr>\n",
              "    <tr>\n",
              "      <th>24</th>\n",
              "      <td>CHF</td>\n",
              "      <td>Switzerland</td>\n",
              "      <td>5.90</td>\n",
              "      <td>0</td>\n",
              "    </tr>\n",
              "    <tr>\n",
              "      <th>...</th>\n",
              "      <td>...</td>\n",
              "      <td>...</td>\n",
              "      <td>...</td>\n",
              "      <td>...</td>\n",
              "    </tr>\n",
              "    <tr>\n",
              "      <th>1896</th>\n",
              "      <td>EUR</td>\n",
              "      <td>Germany</td>\n",
              "      <td>4.58</td>\n",
              "      <td>8039</td>\n",
              "    </tr>\n",
              "    <tr>\n",
              "      <th>1895</th>\n",
              "      <td>EUR</td>\n",
              "      <td>France</td>\n",
              "      <td>4.70</td>\n",
              "      <td>8039</td>\n",
              "    </tr>\n",
              "    <tr>\n",
              "      <th>1894</th>\n",
              "      <td>EUR</td>\n",
              "      <td>Finland</td>\n",
              "      <td>5.25</td>\n",
              "      <td>8039</td>\n",
              "    </tr>\n",
              "    <tr>\n",
              "      <th>1900</th>\n",
              "      <td>HKD</td>\n",
              "      <td>Hong Kong</td>\n",
              "      <td>3.00</td>\n",
              "      <td>8039</td>\n",
              "    </tr>\n",
              "    <tr>\n",
              "      <th>1945</th>\n",
              "      <td>VND</td>\n",
              "      <td>Vietnam</td>\n",
              "      <td>2.95</td>\n",
              "      <td>8039</td>\n",
              "    </tr>\n",
              "  </tbody>\n",
              "</table>\n",
              "<p>1945 rows × 4 columns</p>\n",
              "</div>\n",
              "      <button class=\"colab-df-convert\" onclick=\"convertToInteractive('df-0dbba8c4-1255-47cc-82af-b6556ffc2789')\"\n",
              "              title=\"Convert this dataframe to an interactive table.\"\n",
              "              style=\"display:none;\">\n",
              "        \n",
              "  <svg xmlns=\"http://www.w3.org/2000/svg\" height=\"24px\"viewBox=\"0 0 24 24\"\n",
              "       width=\"24px\">\n",
              "    <path d=\"M0 0h24v24H0V0z\" fill=\"none\"/>\n",
              "    <path d=\"M18.56 5.44l.94 2.06.94-2.06 2.06-.94-2.06-.94-.94-2.06-.94 2.06-2.06.94zm-11 1L8.5 8.5l.94-2.06 2.06-.94-2.06-.94L8.5 2.5l-.94 2.06-2.06.94zm10 10l.94 2.06.94-2.06 2.06-.94-2.06-.94-.94-2.06-.94 2.06-2.06.94z\"/><path d=\"M17.41 7.96l-1.37-1.37c-.4-.4-.92-.59-1.43-.59-.52 0-1.04.2-1.43.59L10.3 9.45l-7.72 7.72c-.78.78-.78 2.05 0 2.83L4 21.41c.39.39.9.59 1.41.59.51 0 1.02-.2 1.41-.59l7.78-7.78 2.81-2.81c.8-.78.8-2.07 0-2.86zM5.41 20L4 18.59l7.72-7.72 1.47 1.35L5.41 20z\"/>\n",
              "  </svg>\n",
              "      </button>\n",
              "      \n",
              "  <style>\n",
              "    .colab-df-container {\n",
              "      display:flex;\n",
              "      flex-wrap:wrap;\n",
              "      gap: 12px;\n",
              "    }\n",
              "\n",
              "    .colab-df-convert {\n",
              "      background-color: #E8F0FE;\n",
              "      border: none;\n",
              "      border-radius: 50%;\n",
              "      cursor: pointer;\n",
              "      display: none;\n",
              "      fill: #1967D2;\n",
              "      height: 32px;\n",
              "      padding: 0 0 0 0;\n",
              "      width: 32px;\n",
              "    }\n",
              "\n",
              "    .colab-df-convert:hover {\n",
              "      background-color: #E2EBFA;\n",
              "      box-shadow: 0px 1px 2px rgba(60, 64, 67, 0.3), 0px 1px 3px 1px rgba(60, 64, 67, 0.15);\n",
              "      fill: #174EA6;\n",
              "    }\n",
              "\n",
              "    [theme=dark] .colab-df-convert {\n",
              "      background-color: #3B4455;\n",
              "      fill: #D2E3FC;\n",
              "    }\n",
              "\n",
              "    [theme=dark] .colab-df-convert:hover {\n",
              "      background-color: #434B5C;\n",
              "      box-shadow: 0px 1px 3px 1px rgba(0, 0, 0, 0.15);\n",
              "      filter: drop-shadow(0px 1px 2px rgba(0, 0, 0, 0.3));\n",
              "      fill: #FFFFFF;\n",
              "    }\n",
              "  </style>\n",
              "\n",
              "      <script>\n",
              "        const buttonEl =\n",
              "          document.querySelector('#df-0dbba8c4-1255-47cc-82af-b6556ffc2789 button.colab-df-convert');\n",
              "        buttonEl.style.display =\n",
              "          google.colab.kernel.accessAllowed ? 'block' : 'none';\n",
              "\n",
              "        async function convertToInteractive(key) {\n",
              "          const element = document.querySelector('#df-0dbba8c4-1255-47cc-82af-b6556ffc2789');\n",
              "          const dataTable =\n",
              "            await google.colab.kernel.invokeFunction('convertToInteractive',\n",
              "                                                     [key], {});\n",
              "          if (!dataTable) return;\n",
              "\n",
              "          const docLinkHtml = 'Like what you see? Visit the ' +\n",
              "            '<a target=\"_blank\" href=https://colab.research.google.com/notebooks/data_table.ipynb>data table notebook</a>'\n",
              "            + ' to learn more about interactive tables.';\n",
              "          element.innerHTML = '';\n",
              "          dataTable['output_type'] = 'display_data';\n",
              "          await google.colab.output.renderOutput(dataTable, element);\n",
              "          const docLink = document.createElement('div');\n",
              "          docLink.innerHTML = docLinkHtml;\n",
              "          element.appendChild(docLink);\n",
              "        }\n",
              "      </script>\n",
              "    </div>\n",
              "  </div>\n",
              "  "
            ]
          },
          "metadata": {},
          "execution_count": 41
        }
      ]
    },
    {
      "cell_type": "markdown",
      "source": [
        "Vamos analisar as duas últimas variáveis que dizem respeito ao tipo de moeda e aos paises"
      ],
      "metadata": {
        "id": "o3TWV7JmhdIA"
      }
    },
    {
      "cell_type": "code",
      "source": [
        "df2"
      ],
      "metadata": {
        "colab": {
          "base_uri": "https://localhost:8080/",
          "height": 424
        },
        "id": "z-Y_-4oyNjVi",
        "outputId": "c20e872a-a2be-4922-cecd-60c1205eb80c"
      },
      "execution_count": null,
      "outputs": [
        {
          "output_type": "execute_result",
          "data": {
            "text/plain": [
              "     currency_code           name  dollar_price  data_numerica\n",
              "0              ARS      Argentina          2.50              0\n",
              "27             USD  United States          2.24              0\n",
              "26             THB       Thailand          1.45              0\n",
              "25             TWD         Taiwan          2.33              0\n",
              "24             CHF    Switzerland          5.90              0\n",
              "...            ...            ...           ...            ...\n",
              "1896           EUR        Germany          4.58           8039\n",
              "1895           EUR         France          4.70           8039\n",
              "1894           EUR        Finland          5.25           8039\n",
              "1900           HKD      Hong Kong          3.00           8039\n",
              "1945           VND        Vietnam          2.95           8039\n",
              "\n",
              "[1945 rows x 4 columns]"
            ],
            "text/html": [
              "\n",
              "  <div id=\"df-5fd3f6b9-ca8d-4e12-bcb8-9e18fb62448a\">\n",
              "    <div class=\"colab-df-container\">\n",
              "      <div>\n",
              "<style scoped>\n",
              "    .dataframe tbody tr th:only-of-type {\n",
              "        vertical-align: middle;\n",
              "    }\n",
              "\n",
              "    .dataframe tbody tr th {\n",
              "        vertical-align: top;\n",
              "    }\n",
              "\n",
              "    .dataframe thead th {\n",
              "        text-align: right;\n",
              "    }\n",
              "</style>\n",
              "<table border=\"1\" class=\"dataframe\">\n",
              "  <thead>\n",
              "    <tr style=\"text-align: right;\">\n",
              "      <th></th>\n",
              "      <th>currency_code</th>\n",
              "      <th>name</th>\n",
              "      <th>dollar_price</th>\n",
              "      <th>data_numerica</th>\n",
              "    </tr>\n",
              "  </thead>\n",
              "  <tbody>\n",
              "    <tr>\n",
              "      <th>0</th>\n",
              "      <td>ARS</td>\n",
              "      <td>Argentina</td>\n",
              "      <td>2.50</td>\n",
              "      <td>0</td>\n",
              "    </tr>\n",
              "    <tr>\n",
              "      <th>27</th>\n",
              "      <td>USD</td>\n",
              "      <td>United States</td>\n",
              "      <td>2.24</td>\n",
              "      <td>0</td>\n",
              "    </tr>\n",
              "    <tr>\n",
              "      <th>26</th>\n",
              "      <td>THB</td>\n",
              "      <td>Thailand</td>\n",
              "      <td>1.45</td>\n",
              "      <td>0</td>\n",
              "    </tr>\n",
              "    <tr>\n",
              "      <th>25</th>\n",
              "      <td>TWD</td>\n",
              "      <td>Taiwan</td>\n",
              "      <td>2.33</td>\n",
              "      <td>0</td>\n",
              "    </tr>\n",
              "    <tr>\n",
              "      <th>24</th>\n",
              "      <td>CHF</td>\n",
              "      <td>Switzerland</td>\n",
              "      <td>5.90</td>\n",
              "      <td>0</td>\n",
              "    </tr>\n",
              "    <tr>\n",
              "      <th>...</th>\n",
              "      <td>...</td>\n",
              "      <td>...</td>\n",
              "      <td>...</td>\n",
              "      <td>...</td>\n",
              "    </tr>\n",
              "    <tr>\n",
              "      <th>1896</th>\n",
              "      <td>EUR</td>\n",
              "      <td>Germany</td>\n",
              "      <td>4.58</td>\n",
              "      <td>8039</td>\n",
              "    </tr>\n",
              "    <tr>\n",
              "      <th>1895</th>\n",
              "      <td>EUR</td>\n",
              "      <td>France</td>\n",
              "      <td>4.70</td>\n",
              "      <td>8039</td>\n",
              "    </tr>\n",
              "    <tr>\n",
              "      <th>1894</th>\n",
              "      <td>EUR</td>\n",
              "      <td>Finland</td>\n",
              "      <td>5.25</td>\n",
              "      <td>8039</td>\n",
              "    </tr>\n",
              "    <tr>\n",
              "      <th>1900</th>\n",
              "      <td>HKD</td>\n",
              "      <td>Hong Kong</td>\n",
              "      <td>3.00</td>\n",
              "      <td>8039</td>\n",
              "    </tr>\n",
              "    <tr>\n",
              "      <th>1945</th>\n",
              "      <td>VND</td>\n",
              "      <td>Vietnam</td>\n",
              "      <td>2.95</td>\n",
              "      <td>8039</td>\n",
              "    </tr>\n",
              "  </tbody>\n",
              "</table>\n",
              "<p>1945 rows × 4 columns</p>\n",
              "</div>\n",
              "      <button class=\"colab-df-convert\" onclick=\"convertToInteractive('df-5fd3f6b9-ca8d-4e12-bcb8-9e18fb62448a')\"\n",
              "              title=\"Convert this dataframe to an interactive table.\"\n",
              "              style=\"display:none;\">\n",
              "        \n",
              "  <svg xmlns=\"http://www.w3.org/2000/svg\" height=\"24px\"viewBox=\"0 0 24 24\"\n",
              "       width=\"24px\">\n",
              "    <path d=\"M0 0h24v24H0V0z\" fill=\"none\"/>\n",
              "    <path d=\"M18.56 5.44l.94 2.06.94-2.06 2.06-.94-2.06-.94-.94-2.06-.94 2.06-2.06.94zm-11 1L8.5 8.5l.94-2.06 2.06-.94-2.06-.94L8.5 2.5l-.94 2.06-2.06.94zm10 10l.94 2.06.94-2.06 2.06-.94-2.06-.94-.94-2.06-.94 2.06-2.06.94z\"/><path d=\"M17.41 7.96l-1.37-1.37c-.4-.4-.92-.59-1.43-.59-.52 0-1.04.2-1.43.59L10.3 9.45l-7.72 7.72c-.78.78-.78 2.05 0 2.83L4 21.41c.39.39.9.59 1.41.59.51 0 1.02-.2 1.41-.59l7.78-7.78 2.81-2.81c.8-.78.8-2.07 0-2.86zM5.41 20L4 18.59l7.72-7.72 1.47 1.35L5.41 20z\"/>\n",
              "  </svg>\n",
              "      </button>\n",
              "      \n",
              "  <style>\n",
              "    .colab-df-container {\n",
              "      display:flex;\n",
              "      flex-wrap:wrap;\n",
              "      gap: 12px;\n",
              "    }\n",
              "\n",
              "    .colab-df-convert {\n",
              "      background-color: #E8F0FE;\n",
              "      border: none;\n",
              "      border-radius: 50%;\n",
              "      cursor: pointer;\n",
              "      display: none;\n",
              "      fill: #1967D2;\n",
              "      height: 32px;\n",
              "      padding: 0 0 0 0;\n",
              "      width: 32px;\n",
              "    }\n",
              "\n",
              "    .colab-df-convert:hover {\n",
              "      background-color: #E2EBFA;\n",
              "      box-shadow: 0px 1px 2px rgba(60, 64, 67, 0.3), 0px 1px 3px 1px rgba(60, 64, 67, 0.15);\n",
              "      fill: #174EA6;\n",
              "    }\n",
              "\n",
              "    [theme=dark] .colab-df-convert {\n",
              "      background-color: #3B4455;\n",
              "      fill: #D2E3FC;\n",
              "    }\n",
              "\n",
              "    [theme=dark] .colab-df-convert:hover {\n",
              "      background-color: #434B5C;\n",
              "      box-shadow: 0px 1px 3px 1px rgba(0, 0, 0, 0.15);\n",
              "      filter: drop-shadow(0px 1px 2px rgba(0, 0, 0, 0.3));\n",
              "      fill: #FFFFFF;\n",
              "    }\n",
              "  </style>\n",
              "\n",
              "      <script>\n",
              "        const buttonEl =\n",
              "          document.querySelector('#df-5fd3f6b9-ca8d-4e12-bcb8-9e18fb62448a button.colab-df-convert');\n",
              "        buttonEl.style.display =\n",
              "          google.colab.kernel.accessAllowed ? 'block' : 'none';\n",
              "\n",
              "        async function convertToInteractive(key) {\n",
              "          const element = document.querySelector('#df-5fd3f6b9-ca8d-4e12-bcb8-9e18fb62448a');\n",
              "          const dataTable =\n",
              "            await google.colab.kernel.invokeFunction('convertToInteractive',\n",
              "                                                     [key], {});\n",
              "          if (!dataTable) return;\n",
              "\n",
              "          const docLinkHtml = 'Like what you see? Visit the ' +\n",
              "            '<a target=\"_blank\" href=https://colab.research.google.com/notebooks/data_table.ipynb>data table notebook</a>'\n",
              "            + ' to learn more about interactive tables.';\n",
              "          element.innerHTML = '';\n",
              "          dataTable['output_type'] = 'display_data';\n",
              "          await google.colab.output.renderOutput(dataTable, element);\n",
              "          const docLink = document.createElement('div');\n",
              "          docLink.innerHTML = docLinkHtml;\n",
              "          element.appendChild(docLink);\n",
              "        }\n",
              "      </script>\n",
              "    </div>\n",
              "  </div>\n",
              "  "
            ]
          },
          "metadata": {},
          "execution_count": 42
        }
      ]
    },
    {
      "cell_type": "code",
      "source": [
        "plt.figure(figsize=(12,4))\n",
        "df2['currency_code'].value_counts(normalize=True).plot(kind='bar')\n",
        "plt.show()"
      ],
      "metadata": {
        "colab": {
          "base_uri": "https://localhost:8080/",
          "height": 366
        },
        "id": "lNV2GOAChi0I",
        "outputId": "07b0e0d1-5172-4ba6-f105-27d7ade204d6"
      },
      "execution_count": null,
      "outputs": [
        {
          "output_type": "display_data",
          "data": {
            "text/plain": [
              "<Figure size 1200x400 with 1 Axes>"
            ],
            "image/png": "[encoded data removed]"
          },
          "metadata": {}
        }
      ]
    },
    {
      "cell_type": "markdown",
      "source": [
        "A maior frequência de moeda é o euro, o que nos sugere que há uma maior proporção de países europeus na base, vamos confirmar isso:"
      ],
      "metadata": {
        "id": "t357A7HLh3DB"
      }
    },
    {
      "cell_type": "code",
      "source": [
        "plt.figure(figsize=(12,4))\n",
        "df2['name'].value_counts(normalize=True).plot(kind='bar')\n",
        "plt.show()"
      ],
      "metadata": {
        "colab": {
          "base_uri": "https://localhost:8080/",
          "height": 472
        },
        "id": "QUdZEwzciCKV",
        "outputId": "e3bca83f-29e6-4db1-f392-61da806514c4"
      },
      "execution_count": null,
      "outputs": [
        {
          "output_type": "display_data",
          "data": {
            "text/plain": [
              "<Figure size 1200x400 with 1 Axes>"
            ],
            "image/png": "[encoded data removed]"
          },
          "metadata": {}
        }
      ]
    },
    {
      "cell_type": "markdown",
      "source": [
        "Realmente notamos vários países da Europa na base, alguns fora da zona do euro, mas outros que são aderentes ao grupo possuem bastante relevância na base."
      ],
      "metadata": {
        "id": "2DRBitOBiUDU"
      }
    },
    {
      "cell_type": "markdown",
      "source": [
        "O último passo antes de construirmos o modelo é transformar as variáveis categóricas em dummies para facilitar o aprendizado do modelo."
      ],
      "metadata": {
        "id": "ETE5FCNDijSg"
      }
    },
    {
      "cell_type": "code",
      "source": [
        "dummy_moeda = pd.get_dummies(df2['currency_code'])\n",
        "df2 = pd.concat([dummy_moeda,df2],axis=1)\n",
        "\n",
        "dummy_pais = pd.get_dummies(df2['name'])\n",
        "df2 = pd.concat([dummy_pais,df2],axis=1)\n",
        "\n",
        "df2.drop(columns=['currency_code','name'],inplace=True)\n",
        "df2.columns.to_list()"
      ],
      "metadata": {
        "colab": {
          "base_uri": "https://localhost:8080/"
        },
        "id": "3pd9XmMMiTmc",
        "outputId": "8dedf5da-bc92-4004-d94a-423ce70e125e"
      },
      "execution_count": null,
      "outputs": [
        {
          "output_type": "execute_result",
          "data": {
            "text/plain": [
              "['Argentina',\n",
              " 'Australia',\n",
              " 'Austria',\n",
              " 'Azerbaijan',\n",
              " 'Bahrain',\n",
              " 'Belgium',\n",
              " 'Brazil',\n",
              " 'Britain',\n",
              " 'Canada',\n",
              " 'Chile',\n",
              " 'China',\n",
              " 'Colombia',\n",
              " 'Costa Rica',\n",
              " 'Croatia',\n",
              " 'Czech Republic',\n",
              " 'Denmark',\n",
              " 'Egypt',\n",
              " 'Estonia',\n",
              " 'Euro area',\n",
              " 'Finland',\n",
              " 'France',\n",
              " 'Germany',\n",
              " 'Greece',\n",
              " 'Guatemala',\n",
              " 'Honduras',\n",
              " 'Hong Kong',\n",
              " 'Hungary',\n",
              " 'India',\n",
              " 'Indonesia',\n",
              " 'Ireland',\n",
              " 'Israel',\n",
              " 'Italy',\n",
              " 'Japan',\n",
              " 'Jordan',\n",
              " 'Kuwait',\n",
              " 'Latvia',\n",
              " 'Lebanon',\n",
              " 'Lithuania',\n",
              " 'Malaysia',\n",
              " 'Mexico',\n",
              " 'Moldova',\n",
              " 'Netherlands',\n",
              " 'New Zealand',\n",
              " 'Nicaragua',\n",
              " 'Norway',\n",
              " 'Oman',\n",
              " 'Pakistan',\n",
              " 'Peru',\n",
              " 'Philippines',\n",
              " 'Poland',\n",
              " 'Portugal',\n",
              " 'Qatar',\n",
              " 'Romania',\n",
              " 'Russia',\n",
              " 'Saudi Arabia',\n",
              " 'Singapore',\n",
              " 'Slovakia',\n",
              " 'Slovenia',\n",
              " 'South Africa',\n",
              " 'South Korea',\n",
              " 'Spain',\n",
              " 'Sri Lanka',\n",
              " 'Sweden',\n",
              " 'Switzerland',\n",
              " 'Taiwan',\n",
              " 'Thailand',\n",
              " 'Turkey',\n",
              " 'UAE',\n",
              " 'Ukraine',\n",
              " 'United Arab Emirates',\n",
              " 'United States',\n",
              " 'Uruguay',\n",
              " 'Venezuela',\n",
              " 'Vietnam',\n",
              " 'AED',\n",
              " 'ARS',\n",
              " 'AUD',\n",
              " 'AZN',\n",
              " 'BHD',\n",
              " 'BRL',\n",
              " 'CAD',\n",
              " 'CHF',\n",
              " 'CLP',\n",
              " 'CNY',\n",
              " 'COP',\n",
              " 'CRC',\n",
              " 'CZK',\n",
              " 'DKK',\n",
              " 'EGP',\n",
              " 'EUR',\n",
              " 'GBP',\n",
              " 'GTQ',\n",
              " 'HKD',\n",
              " 'HNL',\n",
              " 'HRK',\n",
              " 'HUF',\n",
              " 'IDR',\n",
              " 'ILS',\n",
              " 'INR',\n",
              " 'JOD',\n",
              " 'JPY',\n",
              " 'KRW',\n",
              " 'KWD',\n",
              " 'LBP',\n",
              " 'LKR',\n",
              " 'MDL',\n",
              " 'MXN',\n",
              " 'MYR',\n",
              " 'NIO',\n",
              " 'NOK',\n",
              " 'NZD',\n",
              " 'OMR',\n",
              " 'PEN',\n",
              " 'PHP',\n",
              " 'PKR',\n",
              " 'PLN',\n",
              " 'QAR',\n",
              " 'RON',\n",
              " 'RUB',\n",
              " 'SAR',\n",
              " 'SEK',\n",
              " 'SGD',\n",
              " 'THB',\n",
              " 'TRY',\n",
              " 'TWD',\n",
              " 'UAH',\n",
              " 'USD',\n",
              " 'UYU',\n",
              " 'VEF',\n",
              " 'VES',\n",
              " 'VND',\n",
              " 'ZAR',\n",
              " 'dollar_price',\n",
              " 'data_numerica']"
            ]
          },
          "metadata": {},
          "execution_count": 45
        }
      ]
    },
    {
      "cell_type": "markdown",
      "source": [
        "Agora vamos dividir a base em treino e teste mas de uma forma que a gente consiga manter a mesma distribuição de valores em ambas as bases para não atrapalhar na performance do modelo."
      ],
      "metadata": {
        "id": "OhGeDhb9mH5s"
      }
    },
    {
      "cell_type": "code",
      "source": [
        "df2 = df2[df2['dollar_price']> 0]"
      ],
      "metadata": {
        "id": "lBwS_xnonmMT"
      },
      "execution_count": null,
      "outputs": []
    },
    {
      "cell_type": "code",
      "source": [
        "df2['cat_preco'] = pd.cut(df2['dollar_price'],bins=[0.1,2,3.5,4.5,6.,np.inf],labels=[1,2,3,4,5])\n",
        "df2 = df2.reset_index(drop=True)"
      ],
      "metadata": {
        "id": "Nh9yZgyAmYDp"
      },
      "execution_count": null,
      "outputs": []
    },
    {
      "cell_type": "code",
      "source": [
        "df2['cat_preco'].unique()"
      ],
      "metadata": {
        "colab": {
          "base_uri": "https://localhost:8080/"
        },
        "id": "-MLq88LonXLw",
        "outputId": "e13cdaef-7334-4600-be14-cf29d921e5e0"
      },
      "execution_count": null,
      "outputs": [
        {
          "output_type": "execute_result",
          "data": {
            "text/plain": [
              "[2, 1, 4, 3, 5]\n",
              "Categories (5, int64): [1 < 2 < 3 < 4 < 5]"
            ]
          },
          "metadata": {},
          "execution_count": 48
        }
      ]
    },
    {
      "cell_type": "code",
      "source": [
        "split = StratifiedShuffleSplit(n_splits=1,test_size=0.2,random_state=42)\n",
        "\n",
        "for train_index,test_index in split.split(df2,df2['cat_preco']):\n",
        "  strat_train = df2.loc[train_index]\n",
        "  strat_test = df2.loc[test_index]"
      ],
      "metadata": {
        "id": "In_p1BtYjdLA"
      },
      "execution_count": null,
      "outputs": []
    },
    {
      "cell_type": "markdown",
      "source": [
        "Removendo a coluna de categoria"
      ],
      "metadata": {
        "id": "fTMZ7p_-oCce"
      }
    },
    {
      "cell_type": "code",
      "source": [
        "for set_ in (strat_train, strat_test):\n",
        "  set_.drop(\"cat_preco\",axis=1,inplace=True)"
      ],
      "metadata": {
        "id": "7TOYTuMxoDyB"
      },
      "execution_count": null,
      "outputs": []
    },
    {
      "cell_type": "markdown",
      "source": [
        "Antes de criarmos o modelo vamos normalizar os dados através do MinMaxScaler."
      ],
      "metadata": {
        "id": "ObMMtgQ4pCIk"
      }
    },
    {
      "cell_type": "code",
      "source": [
        "scaler = MinMaxScaler()\n",
        "y_train = strat_train['dollar_price']\n",
        "X_train = strat_train.drop(columns=['dollar_price'])\n",
        "X_train_scaled = scaler.fit_transform(X_train)\n",
        "\n",
        "y_test = strat_test['dollar_price']\n",
        "X_test = strat_test.drop(columns=['dollar_price'])\n",
        "X_test_scaled = scaler.transform(X_test)"
      ],
      "metadata": {
        "id": "Sv_xPACQo2Qp"
      },
      "execution_count": null,
      "outputs": []
    },
    {
      "cell_type": "markdown",
      "source": [
        "Vamos iniciar o nosso primeiro modelo"
      ],
      "metadata": {
        "id": "QLW-vP4GpnAZ"
      }
    },
    {
      "cell_type": "code",
      "source": [
        "lr = LinearRegression()\n",
        "lr.fit(X_train_scaled, y_train)\n",
        "y_pred = lr.predict(X_test_scaled)\n",
        "\n",
        "#calculando as métricas\n",
        "mse = mean_squared_error(y_test, y_pred)\n",
        "rmse = np.sqrt(mse)\n",
        "mae = mean_absolute_error(y_test, y_pred)\n",
        "r2 = r2_score(y_test, y_pred)\n",
        "\n",
        "#guardando as métricas em um DataFrame\n",
        "metrics = pd.DataFrame({'Model': ['Linear Regression'],\n",
        "                        'MSE': [mse],\n",
        "                        'RMSE': [rmse],\n",
        "                        'MAE': [mae],\n",
        "                        'R2': [r2]})"
      ],
      "metadata": {
        "id": "h93xpTEUppmt"
      },
      "execution_count": null,
      "outputs": []
    },
    {
      "cell_type": "code",
      "source": [
        "metrics"
      ],
      "metadata": {
        "colab": {
          "base_uri": "https://localhost:8080/",
          "height": 81
        },
        "id": "aic5qxXyqPFh",
        "outputId": "5d03a22d-f017-4388-a8a3-996bac14c91f"
      },
      "execution_count": null,
      "outputs": [
        {
          "output_type": "execute_result",
          "data": {
            "text/plain": [
              "               Model       MSE      RMSE       MAE        R2\n",
              "0  Linear Regression  0.466581  0.683067  0.438624  0.763921"
            ],
            "text/html": [
              "\n",
              "  <div id=\"df-06ed9f23-417c-495a-9db1-9c565e774292\">\n",
              "    <div class=\"colab-df-container\">\n",
              "      <div>\n",
              "<style scoped>\n",
              "    .dataframe tbody tr th:only-of-type {\n",
              "        vertical-align: middle;\n",
              "    }\n",
              "\n",
              "    .dataframe tbody tr th {\n",
              "        vertical-align: top;\n",
              "    }\n",
              "\n",
              "    .dataframe thead th {\n",
              "        text-align: right;\n",
              "    }\n",
              "</style>\n",
              "<table border=\"1\" class=\"dataframe\">\n",
              "  <thead>\n",
              "    <tr style=\"text-align: right;\">\n",
              "      <th></th>\n",
              "      <th>Model</th>\n",
              "      <th>MSE</th>\n",
              "      <th>RMSE</th>\n",
              "      <th>MAE</th>\n",
              "      <th>R2</th>\n",
              "    </tr>\n",
              "  </thead>\n",
              "  <tbody>\n",
              "    <tr>\n",
              "      <th>0</th>\n",
              "      <td>Linear Regression</td>\n",
              "      <td>0.466581</td>\n",
              "      <td>0.683067</td>\n",
              "      <td>0.438624</td>\n",
              "      <td>0.763921</td>\n",
              "    </tr>\n",
              "  </tbody>\n",
              "</table>\n",
              "</div>\n",
              "      <button class=\"colab-df-convert\" onclick=\"convertToInteractive('df-06ed9f23-417c-495a-9db1-9c565e774292')\"\n",
              "              title=\"Convert this dataframe to an interactive table.\"\n",
              "              style=\"display:none;\">\n",
              "        \n",
              "  <svg xmlns=\"http://www.w3.org/2000/svg\" height=\"24px\"viewBox=\"0 0 24 24\"\n",
              "       width=\"24px\">\n",
              "    <path d=\"M0 0h24v24H0V0z\" fill=\"none\"/>\n",
              "    <path d=\"M18.56 5.44l.94 2.06.94-2.06 2.06-.94-2.06-.94-.94-2.06-.94 2.06-2.06.94zm-11 1L8.5 8.5l.94-2.06 2.06-.94-2.06-.94L8.5 2.5l-.94 2.06-2.06.94zm10 10l.94 2.06.94-2.06 2.06-.94-2.06-.94-.94-2.06-.94 2.06-2.06.94z\"/><path d=\"M17.41 7.96l-1.37-1.37c-.4-.4-.92-.59-1.43-.59-.52 0-1.04.2-1.43.59L10.3 9.45l-7.72 7.72c-.78.78-.78 2.05 0 2.83L4 21.41c.39.39.9.59 1.41.59.51 0 1.02-.2 1.41-.59l7.78-7.78 2.81-2.81c.8-.78.8-2.07 0-2.86zM5.41 20L4 18.59l7.72-7.72 1.47 1.35L5.41 20z\"/>\n",
              "  </svg>\n",
              "      </button>\n",
              "      \n",
              "  <style>\n",
              "    .colab-df-container {\n",
              "      display:flex;\n",
              "      flex-wrap:wrap;\n",
              "      gap: 12px;\n",
              "    }\n",
              "\n",
              "    .colab-df-convert {\n",
              "      background-color: #E8F0FE;\n",
              "      border: none;\n",
              "      border-radius: 50%;\n",
              "      cursor: pointer;\n",
              "      display: none;\n",
              "      fill: #1967D2;\n",
              "      height: 32px;\n",
              "      padding: 0 0 0 0;\n",
              "      width: 32px;\n",
              "    }\n",
              "\n",
              "    .colab-df-convert:hover {\n",
              "      background-color: #E2EBFA;\n",
              "      box-shadow: 0px 1px 2px rgba(60, 64, 67, 0.3), 0px 1px 3px 1px rgba(60, 64, 67, 0.15);\n",
              "      fill: #174EA6;\n",
              "    }\n",
              "\n",
              "    [theme=dark] .colab-df-convert {\n",
              "      background-color: #3B4455;\n",
              "      fill: #D2E3FC;\n",
              "    }\n",
              "\n",
              "    [theme=dark] .colab-df-convert:hover {\n",
              "      background-color: #434B5C;\n",
              "      box-shadow: 0px 1px 3px 1px rgba(0, 0, 0, 0.15);\n",
              "      filter: drop-shadow(0px 1px 2px rgba(0, 0, 0, 0.3));\n",
              "      fill: #FFFFFF;\n",
              "    }\n",
              "  </style>\n",
              "\n",
              "      <script>\n",
              "        const buttonEl =\n",
              "          document.querySelector('#df-06ed9f23-417c-495a-9db1-9c565e774292 button.colab-df-convert');\n",
              "        buttonEl.style.display =\n",
              "          google.colab.kernel.accessAllowed ? 'block' : 'none';\n",
              "\n",
              "        async function convertToInteractive(key) {\n",
              "          const element = document.querySelector('#df-06ed9f23-417c-495a-9db1-9c565e774292');\n",
              "          const dataTable =\n",
              "            await google.colab.kernel.invokeFunction('convertToInteractive',\n",
              "                                                     [key], {});\n",
              "          if (!dataTable) return;\n",
              "\n",
              "          const docLinkHtml = 'Like what you see? Visit the ' +\n",
              "            '<a target=\"_blank\" href=https://colab.research.google.com/notebooks/data_table.ipynb>data table notebook</a>'\n",
              "            + ' to learn more about interactive tables.';\n",
              "          element.innerHTML = '';\n",
              "          dataTable['output_type'] = 'display_data';\n",
              "          await google.colab.output.renderOutput(dataTable, element);\n",
              "          const docLink = document.createElement('div');\n",
              "          docLink.innerHTML = docLinkHtml;\n",
              "          element.appendChild(docLink);\n",
              "        }\n",
              "      </script>\n",
              "    </div>\n",
              "  </div>\n",
              "  "
            ]
          },
          "metadata": {},
          "execution_count": 53
        }
      ]
    },
    {
      "cell_type": "markdown",
      "source": [
        "Nada mal para um primeiro modelo, tivemos um r² de 0.76, o que significa que o nosso modelo consegue explicar 76% da variação dos dados. E também tivemos um RMSE de 0.68, ou seja, o desvio padrão dos erros do modelo gira em torno deste valor."
      ],
      "metadata": {
        "id": "Ov3zsqTKqVpg"
      }
    },
    {
      "cell_type": "markdown",
      "source": [
        "Vamos tentar um modelo mais robusto"
      ],
      "metadata": {
        "id": "7RSId6mZrB8j"
      }
    },
    {
      "cell_type": "code",
      "source": [
        "tree_reg = DecisionTreeRegressor(random_state=42)\n",
        "\n",
        "#realizando a validação cruzada k-fold\n",
        "scores = cross_val_score(tree_reg, X_train_scaled, y_train, scoring=\"neg_mean_squared_error\", cv=10)\n",
        "tree_reg_rmse_scores = np.sqrt(-scores)\n",
        "\n",
        "#ajustando o modelo aos dados de treinamento\n",
        "tree_reg.fit(X_train_scaled, y_train)\n",
        "\n",
        "#fazendo previsões no conjunto de teste\n",
        "y_pred = tree_reg.predict(X_test_scaled)\n",
        "\n",
        "#calculando as métricas\n",
        "mse = mean_squared_error(y_test, y_pred)\n",
        "rmse = np.sqrt(mse)\n",
        "mae = mean_absolute_error(y_test, y_pred)\n",
        "r2 = r2_score(y_test, y_pred)\n",
        "\n",
        "#incluindo a nova linha no df\n",
        "nova_linha = {'Model': 'Decision Tree Regressor', 'MSE': mse, 'RMSE': rmse, 'MAE': mae, 'R2': r2}\n",
        "metrics = metrics.append(nova_linha , ignore_index=True)\n",
        "\n",
        "def display_scores(scores):\n",
        "    print(\"Scores: \", [round(score, 3) for score in scores])\n",
        "    print(\"Mean: \", round(scores.mean(), 3))\n",
        "    print(\"Standard deviation: \", round(scores.std(), 3))\n",
        "\n",
        "display_scores(tree_reg_rmse_scores)"
      ],
      "metadata": {
        "colab": {
          "base_uri": "https://localhost:8080/"
        },
        "id": "pE6o4UzBrGC4",
        "outputId": "2a0d93fd-4a04-42d0-90da-467c3fc16d5e"
      },
      "execution_count": null,
      "outputs": [
        {
          "output_type": "stream",
          "name": "stdout",
          "text": [
            "Scores:  [0.47, 0.637, 0.621, 0.516, 0.453, 0.373, 0.487, 0.71, 0.487, 0.735]\n",
            "Mean:  0.549\n",
            "Standard deviation:  0.113\n"
          ]
        },
        {
          "output_type": "stream",
          "name": "stderr",
          "text": [
            "<ipython-input-54-4f701c8c51dc>:21: FutureWarning: The frame.append method is deprecated and will be removed from pandas in a future version. Use pandas.concat instead.\n",
            "  metrics = metrics.append(nova_linha , ignore_index=True)\n"
          ]
        }
      ]
    },
    {
      "cell_type": "markdown",
      "source": [
        "Treinamos um modelo de Decision Tree Regressor e verificamos o desempenho através de validação cruzada com k-folds, para termos certeza que o nosso modelo não sofreu overfitting. Como podemos ver tivemos um desvio padrão razoavelmente baixo de 0.113 e uma média de RMSE em torno de 0.55, vamos ver se este valor ficou próximo do que obtivemos na base de teste."
      ],
      "metadata": {
        "id": "5aw43vE2vd4y"
      }
    },
    {
      "cell_type": "code",
      "source": [
        "metrics"
      ],
      "metadata": {
        "colab": {
          "base_uri": "https://localhost:8080/",
          "height": 112
        },
        "id": "SGC5UTgJsNMN",
        "outputId": "530dc49c-0677-486f-923b-8fc2f3db613f"
      },
      "execution_count": null,
      "outputs": [
        {
          "output_type": "execute_result",
          "data": {
            "text/plain": [
              "                     Model       MSE      RMSE       MAE        R2\n",
              "0        Linear Regression  0.466581  0.683067  0.438624  0.763921\n",
              "1  Decision Tree Regressor  0.282972  0.531951  0.259177  0.856822"
            ],
            "text/html": [
              "\n",
              "  <div id=\"df-d711c5aa-c794-47e2-831d-6590a289dc98\">\n",
              "    <div class=\"colab-df-container\">\n",
              "      <div>\n",
              "<style scoped>\n",
              "    .dataframe tbody tr th:only-of-type {\n",
              "        vertical-align: middle;\n",
              "    }\n",
              "\n",
              "    .dataframe tbody tr th {\n",
              "        vertical-align: top;\n",
              "    }\n",
              "\n",
              "    .dataframe thead th {\n",
              "        text-align: right;\n",
              "    }\n",
              "</style>\n",
              "<table border=\"1\" class=\"dataframe\">\n",
              "  <thead>\n",
              "    <tr style=\"text-align: right;\">\n",
              "      <th></th>\n",
              "      <th>Model</th>\n",
              "      <th>MSE</th>\n",
              "      <th>RMSE</th>\n",
              "      <th>MAE</th>\n",
              "      <th>R2</th>\n",
              "    </tr>\n",
              "  </thead>\n",
              "  <tbody>\n",
              "    <tr>\n",
              "      <th>0</th>\n",
              "      <td>Linear Regression</td>\n",
              "      <td>0.466581</td>\n",
              "      <td>0.683067</td>\n",
              "      <td>0.438624</td>\n",
              "      <td>0.763921</td>\n",
              "    </tr>\n",
              "    <tr>\n",
              "      <th>1</th>\n",
              "      <td>Decision Tree Regressor</td>\n",
              "      <td>0.282972</td>\n",
              "      <td>0.531951</td>\n",
              "      <td>0.259177</td>\n",
              "      <td>0.856822</td>\n",
              "    </tr>\n",
              "  </tbody>\n",
              "</table>\n",
              "</div>\n",
              "      <button class=\"colab-df-convert\" onclick=\"convertToInteractive('df-d711c5aa-c794-47e2-831d-6590a289dc98')\"\n",
              "              title=\"Convert this dataframe to an interactive table.\"\n",
              "              style=\"display:none;\">\n",
              "        \n",
              "  <svg xmlns=\"http://www.w3.org/2000/svg\" height=\"24px\"viewBox=\"0 0 24 24\"\n",
              "       width=\"24px\">\n",
              "    <path d=\"M0 0h24v24H0V0z\" fill=\"none\"/>\n",
              "    <path d=\"M18.56 5.44l.94 2.06.94-2.06 2.06-.94-2.06-.94-.94-2.06-.94 2.06-2.06.94zm-11 1L8.5 8.5l.94-2.06 2.06-.94-2.06-.94L8.5 2.5l-.94 2.06-2.06.94zm10 10l.94 2.06.94-2.06 2.06-.94-2.06-.94-.94-2.06-.94 2.06-2.06.94z\"/><path d=\"M17.41 7.96l-1.37-1.37c-.4-.4-.92-.59-1.43-.59-.52 0-1.04.2-1.43.59L10.3 9.45l-7.72 7.72c-.78.78-.78 2.05 0 2.83L4 21.41c.39.39.9.59 1.41.59.51 0 1.02-.2 1.41-.59l7.78-7.78 2.81-2.81c.8-.78.8-2.07 0-2.86zM5.41 20L4 18.59l7.72-7.72 1.47 1.35L5.41 20z\"/>\n",
              "  </svg>\n",
              "      </button>\n",
              "      \n",
              "  <style>\n",
              "    .colab-df-container {\n",
              "      display:flex;\n",
              "      flex-wrap:wrap;\n",
              "      gap: 12px;\n",
              "    }\n",
              "\n",
              "    .colab-df-convert {\n",
              "      background-color: #E8F0FE;\n",
              "      border: none;\n",
              "      border-radius: 50%;\n",
              "      cursor: pointer;\n",
              "      display: none;\n",
              "      fill: #1967D2;\n",
              "      height: 32px;\n",
              "      padding: 0 0 0 0;\n",
              "      width: 32px;\n",
              "    }\n",
              "\n",
              "    .colab-df-convert:hover {\n",
              "      background-color: #E2EBFA;\n",
              "      box-shadow: 0px 1px 2px rgba(60, 64, 67, 0.3), 0px 1px 3px 1px rgba(60, 64, 67, 0.15);\n",
              "      fill: #174EA6;\n",
              "    }\n",
              "\n",
              "    [theme=dark] .colab-df-convert {\n",
              "      background-color: #3B4455;\n",
              "      fill: #D2E3FC;\n",
              "    }\n",
              "\n",
              "    [theme=dark] .colab-df-convert:hover {\n",
              "      background-color: #434B5C;\n",
              "      box-shadow: 0px 1px 3px 1px rgba(0, 0, 0, 0.15);\n",
              "      filter: drop-shadow(0px 1px 2px rgba(0, 0, 0, 0.3));\n",
              "      fill: #FFFFFF;\n",
              "    }\n",
              "  </style>\n",
              "\n",
              "      <script>\n",
              "        const buttonEl =\n",
              "          document.querySelector('#df-d711c5aa-c794-47e2-831d-6590a289dc98 button.colab-df-convert');\n",
              "        buttonEl.style.display =\n",
              "          google.colab.kernel.accessAllowed ? 'block' : 'none';\n",
              "\n",
              "        async function convertToInteractive(key) {\n",
              "          const element = document.querySelector('#df-d711c5aa-c794-47e2-831d-6590a289dc98');\n",
              "          const dataTable =\n",
              "            await google.colab.kernel.invokeFunction('convertToInteractive',\n",
              "                                                     [key], {});\n",
              "          if (!dataTable) return;\n",
              "\n",
              "          const docLinkHtml = 'Like what you see? Visit the ' +\n",
              "            '<a target=\"_blank\" href=https://colab.research.google.com/notebooks/data_table.ipynb>data table notebook</a>'\n",
              "            + ' to learn more about interactive tables.';\n",
              "          element.innerHTML = '';\n",
              "          dataTable['output_type'] = 'display_data';\n",
              "          await google.colab.output.renderOutput(dataTable, element);\n",
              "          const docLink = document.createElement('div');\n",
              "          docLink.innerHTML = docLinkHtml;\n",
              "          element.appendChild(docLink);\n",
              "        }\n",
              "      </script>\n",
              "    </div>\n",
              "  </div>\n",
              "  "
            ]
          },
          "metadata": {},
          "execution_count": 55
        }
      ]
    },
    {
      "cell_type": "markdown",
      "source": [
        "Obtivemos 0.53 de RMSE na base de teste, o que é um excelente sinal que o nosso modelo não sofreu overfitting já que essa métrica ficou bem próxima do que obtivemos na conjunto de validação da base de treino. Além disso, o nosso r² melhorou e agora conseguimos explicar 85% da variação dos nosso dados."
      ],
      "metadata": {
        "id": "QxRRQKO-v0E8"
      }
    },
    {
      "cell_type": "markdown",
      "source": [
        "Já temos um bom modelo mas vamos tentar melhor o resultado otimizando os hiperparametros com grid search."
      ],
      "metadata": {
        "id": "e7ymz90Iwlu0"
      }
    },
    {
      "cell_type": "code",
      "source": [
        "#definindo os hiperparametros\n",
        "params = {'max_depth': list(range(1, 11)),\n",
        "          'min_samples_split': [0.001, 0.01, 0.1, 0.2, 0.3],\n",
        "          'min_samples_leaf': [0.001, 0.01, 0.1, 0.2, 0.3]}\n",
        "\n",
        "#criando o objeto\n",
        "grid_search = GridSearchCV(DecisionTreeRegressor(random_state=42), params, cv=5, scoring='neg_mean_squared_error')\n",
        "\n",
        "#ajustando dados de treinamento\n",
        "grid_search.fit(X_train_scaled, y_train)\n",
        "\n",
        "#melhores parâmetros\n",
        "print(\"Best parameters:\", grid_search.best_params_)\n",
        "\n",
        "#melhor pontuação (neg_mean_squared_error)\n",
        "print(\"Best score:\", np.sqrt(-grid_search.best_score_))\n",
        "\n",
        "#ajustando o modelo com os melhores parâmetros encontrados\n",
        "best_model = grid_search.best_estimator_\n",
        "\n",
        "#ralizar a previsão\n",
        "y_pred_train = best_model.predict(X_train_scaled)\n",
        "y_pred_test = best_model.predict(X_test_scaled)\n",
        "\n",
        "#calcular o RMSE para o conjunto de treinamento e teste\n",
        "rmse_train = np.sqrt(mean_squared_error(y_train, y_pred_train))\n",
        "rmse_test = np.sqrt(mean_squared_error(y_test, y_pred_test))\n",
        "\n",
        "#calculando as métricas\n",
        "mse = mean_squared_error(y_test, y_pred_test)\n",
        "rmse = np.sqrt(mse)\n",
        "mae = mean_absolute_error(y_test, y_pred_test)\n",
        "r2 = r2_score(y_test, y_pred_test)\n",
        "\n",
        "#incluindo a nova linha no df\n",
        "nova_linha = {'Model': 'Decision Tree Regressor Otimizado com GridSearch', 'MSE': mse, 'RMSE': rmse, 'MAE': mae, 'R2': r2}\n",
        "metrics = metrics.append(nova_linha , ignore_index=True)\n",
        "\n",
        "#pontuações\n",
        "print(\"RMSE - Train: \", rmse_train)\n",
        "print(\"RMSE - Test: \", rmse_test)"
      ],
      "metadata": {
        "colab": {
          "base_uri": "https://localhost:8080/"
        },
        "id": "X5_ymq0OqEIO",
        "outputId": "aa32e0fe-f147-4f80-89bd-8cab70bf738d"
      },
      "execution_count": null,
      "outputs": [
        {
          "output_type": "stream",
          "name": "stdout",
          "text": [
            "Best parameters: {'max_depth': 10, 'min_samples_leaf': 0.001, 'min_samples_split': 0.01}\n",
            "Best score: 0.9692924979223263\n",
            "RMSE - Train:  0.8989158453328601\n",
            "RMSE - Test:  0.936458528954723\n"
          ]
        },
        {
          "output_type": "stream",
          "name": "stderr",
          "text": [
            "<ipython-input-56-20aa7498e95a>:37: FutureWarning: The frame.append method is deprecated and will be removed from pandas in a future version. Use pandas.concat instead.\n",
            "  metrics = metrics.append(nova_linha , ignore_index=True)\n"
          ]
        }
      ]
    },
    {
      "cell_type": "code",
      "source": [
        "metrics"
      ],
      "metadata": {
        "colab": {
          "base_uri": "https://localhost:8080/",
          "height": 143
        },
        "id": "0FOUNd7HxSzN",
        "outputId": "8de625d8-ebaf-4626-8904-5dc038e063f5"
      },
      "execution_count": null,
      "outputs": [
        {
          "output_type": "execute_result",
          "data": {
            "text/plain": [
              "                                              Model       MSE      RMSE  \\\n",
              "0                                 Linear Regression  0.466581  0.683067   \n",
              "1                           Decision Tree Regressor  0.282972  0.531951   \n",
              "2  Decision Tree Regressor Otimizado com GridSearch  0.876955  0.936459   \n",
              "\n",
              "        MAE        R2  \n",
              "0  0.438624  0.763921  \n",
              "1  0.259177  0.856822  \n",
              "2  0.735154  0.556281  "
            ],
            "text/html": [
              "\n",
              "  <div id=\"df-1b490563-731b-47c1-b498-98c90adfbd04\">\n",
              "    <div class=\"colab-df-container\">\n",
              "      <div>\n",
              "<style scoped>\n",
              "    .dataframe tbody tr th:only-of-type {\n",
              "        vertical-align: middle;\n",
              "    }\n",
              "\n",
              "    .dataframe tbody tr th {\n",
              "        vertical-align: top;\n",
              "    }\n",
              "\n",
              "    .dataframe thead th {\n",
              "        text-align: right;\n",
              "    }\n",
              "</style>\n",
              "<table border=\"1\" class=\"dataframe\">\n",
              "  <thead>\n",
              "    <tr style=\"text-align: right;\">\n",
              "      <th></th>\n",
              "      <th>Model</th>\n",
              "      <th>MSE</th>\n",
              "      <th>RMSE</th>\n",
              "      <th>MAE</th>\n",
              "      <th>R2</th>\n",
              "    </tr>\n",
              "  </thead>\n",
              "  <tbody>\n",
              "    <tr>\n",
              "      <th>0</th>\n",
              "      <td>Linear Regression</td>\n",
              "      <td>0.466581</td>\n",
              "      <td>0.683067</td>\n",
              "      <td>0.438624</td>\n",
              "      <td>0.763921</td>\n",
              "    </tr>\n",
              "    <tr>\n",
              "      <th>1</th>\n",
              "      <td>Decision Tree Regressor</td>\n",
              "      <td>0.282972</td>\n",
              "      <td>0.531951</td>\n",
              "      <td>0.259177</td>\n",
              "      <td>0.856822</td>\n",
              "    </tr>\n",
              "    <tr>\n",
              "      <th>2</th>\n",
              "      <td>Decision Tree Regressor Otimizado com GridSearch</td>\n",
              "      <td>0.876955</td>\n",
              "      <td>0.936459</td>\n",
              "      <td>0.735154</td>\n",
              "      <td>0.556281</td>\n",
              "    </tr>\n",
              "  </tbody>\n",
              "</table>\n",
              "</div>\n",
              "      <button class=\"colab-df-convert\" onclick=\"convertToInteractive('df-1b490563-731b-47c1-b498-98c90adfbd04')\"\n",
              "              title=\"Convert this dataframe to an interactive table.\"\n",
              "              style=\"display:none;\">\n",
              "        \n",
              "  <svg xmlns=\"http://www.w3.org/2000/svg\" height=\"24px\"viewBox=\"0 0 24 24\"\n",
              "       width=\"24px\">\n",
              "    <path d=\"M0 0h24v24H0V0z\" fill=\"none\"/>\n",
              "    <path d=\"M18.56 5.44l.94 2.06.94-2.06 2.06-.94-2.06-.94-.94-2.06-.94 2.06-2.06.94zm-11 1L8.5 8.5l.94-2.06 2.06-.94-2.06-.94L8.5 2.5l-.94 2.06-2.06.94zm10 10l.94 2.06.94-2.06 2.06-.94-2.06-.94-.94-2.06-.94 2.06-2.06.94z\"/><path d=\"M17.41 7.96l-1.37-1.37c-.4-.4-.92-.59-1.43-.59-.52 0-1.04.2-1.43.59L10.3 9.45l-7.72 7.72c-.78.78-.78 2.05 0 2.83L4 21.41c.39.39.9.59 1.41.59.51 0 1.02-.2 1.41-.59l7.78-7.78 2.81-2.81c.8-.78.8-2.07 0-2.86zM5.41 20L4 18.59l7.72-7.72 1.47 1.35L5.41 20z\"/>\n",
              "  </svg>\n",
              "      </button>\n",
              "      \n",
              "  <style>\n",
              "    .colab-df-container {\n",
              "      display:flex;\n",
              "      flex-wrap:wrap;\n",
              "      gap: 12px;\n",
              "    }\n",
              "\n",
              "    .colab-df-convert {\n",
              "      background-color: #E8F0FE;\n",
              "      border: none;\n",
              "      border-radius: 50%;\n",
              "      cursor: pointer;\n",
              "      display: none;\n",
              "      fill: #1967D2;\n",
              "      height: 32px;\n",
              "      padding: 0 0 0 0;\n",
              "      width: 32px;\n",
              "    }\n",
              "\n",
              "    .colab-df-convert:hover {\n",
              "      background-color: #E2EBFA;\n",
              "      box-shadow: 0px 1px 2px rgba(60, 64, 67, 0.3), 0px 1px 3px 1px rgba(60, 64, 67, 0.15);\n",
              "      fill: #174EA6;\n",
              "    }\n",
              "\n",
              "    [theme=dark] .colab-df-convert {\n",
              "      background-color: #3B4455;\n",
              "      fill: #D2E3FC;\n",
              "    }\n",
              "\n",
              "    [theme=dark] .colab-df-convert:hover {\n",
              "      background-color: #434B5C;\n",
              "      box-shadow: 0px 1px 3px 1px rgba(0, 0, 0, 0.15);\n",
              "      filter: drop-shadow(0px 1px 2px rgba(0, 0, 0, 0.3));\n",
              "      fill: #FFFFFF;\n",
              "    }\n",
              "  </style>\n",
              "\n",
              "      <script>\n",
              "        const buttonEl =\n",
              "          document.querySelector('#df-1b490563-731b-47c1-b498-98c90adfbd04 button.colab-df-convert');\n",
              "        buttonEl.style.display =\n",
              "          google.colab.kernel.accessAllowed ? 'block' : 'none';\n",
              "\n",
              "        async function convertToInteractive(key) {\n",
              "          const element = document.querySelector('#df-1b490563-731b-47c1-b498-98c90adfbd04');\n",
              "          const dataTable =\n",
              "            await google.colab.kernel.invokeFunction('convertToInteractive',\n",
              "                                                     [key], {});\n",
              "          if (!dataTable) return;\n",
              "\n",
              "          const docLinkHtml = 'Like what you see? Visit the ' +\n",
              "            '<a target=\"_blank\" href=https://colab.research.google.com/notebooks/data_table.ipynb>data table notebook</a>'\n",
              "            + ' to learn more about interactive tables.';\n",
              "          element.innerHTML = '';\n",
              "          dataTable['output_type'] = 'display_data';\n",
              "          await google.colab.output.renderOutput(dataTable, element);\n",
              "          const docLink = document.createElement('div');\n",
              "          docLink.innerHTML = docLinkHtml;\n",
              "          element.appendChild(docLink);\n",
              "        }\n",
              "      </script>\n",
              "    </div>\n",
              "  </div>\n",
              "  "
            ]
          },
          "metadata": {},
          "execution_count": 57
        }
      ]
    },
    {
      "cell_type": "markdown",
      "source": [
        "O desempenho sem o grid search foi melhor em todas as métricas, vamos tentar outro modelo, o Random Forest."
      ],
      "metadata": {
        "id": "_KK_ayh937uU"
      }
    },
    {
      "cell_type": "code",
      "source": [
        "forest_reg = RandomForestRegressor(random_state=42)\n",
        "forest_reg.fit(X_train_scaled, y_train)\n",
        "\n",
        "#validação cruzada com K-folds\n",
        "forest_scores = cross_val_score(forest_reg, X_train_scaled, y_train, scoring=\"neg_mean_squared_error\", cv=10)\n",
        "forest_rmse_scores = np.sqrt(-forest_scores)\n",
        "\n",
        "#exibição das métricas\n",
        "display_scores(forest_rmse_scores)\n",
        "\n",
        "#predição no conjunto de teste\n",
        "forest_pred = forest_reg.predict(X_test_scaled)\n",
        "\n",
        "#calculo das métricas\n",
        "forest_mse = mean_squared_error(y_test, forest_pred)\n",
        "forest_rmse = np.sqrt(forest_mse)\n",
        "forest_mae = mean_absolute_error(y_test, forest_pred)\n",
        "forest_r2 = r2_score(y_test, forest_pred)\n",
        "\n",
        "#adição das métricas ao dataframe\n",
        "nova_linha = {'Model': 'Random Forest Regressor', 'MSE': forest_mse, 'RMSE': forest_rmse, 'MAE': forest_mae, 'R2': forest_r2}\n",
        "metrics = metrics.append(nova_linha , ignore_index=True)"
      ],
      "metadata": {
        "colab": {
          "base_uri": "https://localhost:8080/"
        },
        "id": "XRbBhti1yIWY",
        "outputId": "aeb77c6f-a1dc-483d-a38a-5f547658214a"
      },
      "execution_count": null,
      "outputs": [
        {
          "output_type": "stream",
          "name": "stdout",
          "text": [
            "Scores:  [0.369, 0.565, 0.442, 0.433, 0.333, 0.308, 0.433, 0.489, 0.367, 0.64]\n",
            "Mean:  0.438\n",
            "Standard deviation:  0.099\n"
          ]
        },
        {
          "output_type": "stream",
          "name": "stderr",
          "text": [
            "<ipython-input-58-20aff58215b5>:22: FutureWarning: The frame.append method is deprecated and will be removed from pandas in a future version. Use pandas.concat instead.\n",
            "  metrics = metrics.append(nova_linha , ignore_index=True)\n"
          ]
        }
      ]
    },
    {
      "cell_type": "code",
      "source": [
        "metrics"
      ],
      "metadata": {
        "colab": {
          "base_uri": "https://localhost:8080/",
          "height": 175
        },
        "id": "2EhiIRnayP99",
        "outputId": "bf55538e-4acf-4dd1-9bae-dd0cccbb320e"
      },
      "execution_count": null,
      "outputs": [
        {
          "output_type": "execute_result",
          "data": {
            "text/plain": [
              "                                              Model       MSE      RMSE  \\\n",
              "0                                 Linear Regression  0.466581  0.683067   \n",
              "1                           Decision Tree Regressor  0.282972  0.531951   \n",
              "2  Decision Tree Regressor Otimizado com GridSearch  0.876955  0.936459   \n",
              "3                           Random Forest Regressor  0.178042  0.421950   \n",
              "\n",
              "        MAE        R2  \n",
              "0  0.438624  0.763921  \n",
              "1  0.259177  0.856822  \n",
              "2  0.735154  0.556281  \n",
              "3  0.231427  0.909915  "
            ],
            "text/html": [
              "\n",
              "  <div id=\"df-34df0842-20cb-4e26-9614-306cfe77dffb\">\n",
              "    <div class=\"colab-df-container\">\n",
              "      <div>\n",
              "<style scoped>\n",
              "    .dataframe tbody tr th:only-of-type {\n",
              "        vertical-align: middle;\n",
              "    }\n",
              "\n",
              "    .dataframe tbody tr th {\n",
              "        vertical-align: top;\n",
              "    }\n",
              "\n",
              "    .dataframe thead th {\n",
              "        text-align: right;\n",
              "    }\n",
              "</style>\n",
              "<table border=\"1\" class=\"dataframe\">\n",
              "  <thead>\n",
              "    <tr style=\"text-align: right;\">\n",
              "      <th></th>\n",
              "      <th>Model</th>\n",
              "      <th>MSE</th>\n",
              "      <th>RMSE</th>\n",
              "      <th>MAE</th>\n",
              "      <th>R2</th>\n",
              "    </tr>\n",
              "  </thead>\n",
              "  <tbody>\n",
              "    <tr>\n",
              "      <th>0</th>\n",
              "      <td>Linear Regression</td>\n",
              "      <td>0.466581</td>\n",
              "      <td>0.683067</td>\n",
              "      <td>0.438624</td>\n",
              "      <td>0.763921</td>\n",
              "    </tr>\n",
              "    <tr>\n",
              "      <th>1</th>\n",
              "      <td>Decision Tree Regressor</td>\n",
              "      <td>0.282972</td>\n",
              "      <td>0.531951</td>\n",
              "      <td>0.259177</td>\n",
              "      <td>0.856822</td>\n",
              "    </tr>\n",
              "    <tr>\n",
              "      <th>2</th>\n",
              "      <td>Decision Tree Regressor Otimizado com GridSearch</td>\n",
              "      <td>0.876955</td>\n",
              "      <td>0.936459</td>\n",
              "      <td>0.735154</td>\n",
              "      <td>0.556281</td>\n",
              "    </tr>\n",
              "    <tr>\n",
              "      <th>3</th>\n",
              "      <td>Random Forest Regressor</td>\n",
              "      <td>0.178042</td>\n",
              "      <td>0.421950</td>\n",
              "      <td>0.231427</td>\n",
              "      <td>0.909915</td>\n",
              "    </tr>\n",
              "  </tbody>\n",
              "</table>\n",
              "</div>\n",
              "      <button class=\"colab-df-convert\" onclick=\"convertToInteractive('df-34df0842-20cb-4e26-9614-306cfe77dffb')\"\n",
              "              title=\"Convert this dataframe to an interactive table.\"\n",
              "              style=\"display:none;\">\n",
              "        \n",
              "  <svg xmlns=\"http://www.w3.org/2000/svg\" height=\"24px\"viewBox=\"0 0 24 24\"\n",
              "       width=\"24px\">\n",
              "    <path d=\"M0 0h24v24H0V0z\" fill=\"none\"/>\n",
              "    <path d=\"M18.56 5.44l.94 2.06.94-2.06 2.06-.94-2.06-.94-.94-2.06-.94 2.06-2.06.94zm-11 1L8.5 8.5l.94-2.06 2.06-.94-2.06-.94L8.5 2.5l-.94 2.06-2.06.94zm10 10l.94 2.06.94-2.06 2.06-.94-2.06-.94-.94-2.06-.94 2.06-2.06.94z\"/><path d=\"M17.41 7.96l-1.37-1.37c-.4-.4-.92-.59-1.43-.59-.52 0-1.04.2-1.43.59L10.3 9.45l-7.72 7.72c-.78.78-.78 2.05 0 2.83L4 21.41c.39.39.9.59 1.41.59.51 0 1.02-.2 1.41-.59l7.78-7.78 2.81-2.81c.8-.78.8-2.07 0-2.86zM5.41 20L4 18.59l7.72-7.72 1.47 1.35L5.41 20z\"/>\n",
              "  </svg>\n",
              "      </button>\n",
              "      \n",
              "  <style>\n",
              "    .colab-df-container {\n",
              "      display:flex;\n",
              "      flex-wrap:wrap;\n",
              "      gap: 12px;\n",
              "    }\n",
              "\n",
              "    .colab-df-convert {\n",
              "      background-color: #E8F0FE;\n",
              "      border: none;\n",
              "      border-radius: 50%;\n",
              "      cursor: pointer;\n",
              "      display: none;\n",
              "      fill: #1967D2;\n",
              "      height: 32px;\n",
              "      padding: 0 0 0 0;\n",
              "      width: 32px;\n",
              "    }\n",
              "\n",
              "    .colab-df-convert:hover {\n",
              "      background-color: #E2EBFA;\n",
              "      box-shadow: 0px 1px 2px rgba(60, 64, 67, 0.3), 0px 1px 3px 1px rgba(60, 64, 67, 0.15);\n",
              "      fill: #174EA6;\n",
              "    }\n",
              "\n",
              "    [theme=dark] .colab-df-convert {\n",
              "      background-color: #3B4455;\n",
              "      fill: #D2E3FC;\n",
              "    }\n",
              "\n",
              "    [theme=dark] .colab-df-convert:hover {\n",
              "      background-color: #434B5C;\n",
              "      box-shadow: 0px 1px 3px 1px rgba(0, 0, 0, 0.15);\n",
              "      filter: drop-shadow(0px 1px 2px rgba(0, 0, 0, 0.3));\n",
              "      fill: #FFFFFF;\n",
              "    }\n",
              "  </style>\n",
              "\n",
              "      <script>\n",
              "        const buttonEl =\n",
              "          document.querySelector('#df-34df0842-20cb-4e26-9614-306cfe77dffb button.colab-df-convert');\n",
              "        buttonEl.style.display =\n",
              "          google.colab.kernel.accessAllowed ? 'block' : 'none';\n",
              "\n",
              "        async function convertToInteractive(key) {\n",
              "          const element = document.querySelector('#df-34df0842-20cb-4e26-9614-306cfe77dffb');\n",
              "          const dataTable =\n",
              "            await google.colab.kernel.invokeFunction('convertToInteractive',\n",
              "                                                     [key], {});\n",
              "          if (!dataTable) return;\n",
              "\n",
              "          const docLinkHtml = 'Like what you see? Visit the ' +\n",
              "            '<a target=\"_blank\" href=https://colab.research.google.com/notebooks/data_table.ipynb>data table notebook</a>'\n",
              "            + ' to learn more about interactive tables.';\n",
              "          element.innerHTML = '';\n",
              "          dataTable['output_type'] = 'display_data';\n",
              "          await google.colab.output.renderOutput(dataTable, element);\n",
              "          const docLink = document.createElement('div');\n",
              "          docLink.innerHTML = docLinkHtml;\n",
              "          element.appendChild(docLink);\n",
              "        }\n",
              "      </script>\n",
              "    </div>\n",
              "  </div>\n",
              "  "
            ]
          },
          "metadata": {},
          "execution_count": 59
        }
      ]
    },
    {
      "cell_type": "markdown",
      "source": [
        "Foi o nosso melhor modelo até agora com um r² de 0,91 e um RMSE de 0,42 .Vamos tentar o Random Forest otimizado com GridSearch."
      ],
      "metadata": {
        "id": "AgN1b5QRydpR"
      }
    },
    {
      "cell_type": "code",
      "source": [
        "param_grid = [\n",
        "    {'n_estimators': [3, 10, 30], 'max_features': [2, 4, 6, 8]},\n",
        "    {'bootstrap': [False], 'n_estimators': [3, 10], 'max_features': [2, 3, 4]},\n",
        "  ]\n",
        "\n",
        "forest_reg = RandomForestRegressor(random_state=42)\n",
        "\n",
        "grid_search = GridSearchCV(forest_reg, param_grid, cv=5,\n",
        "                           scoring='neg_mean_squared_error',\n",
        "                           return_train_score=True)\n",
        "\n",
        "grid_search.fit(X_train_scaled, y_train)\n",
        "\n",
        "#exibindo os melhores parâmetros e o melhor score\n",
        "print(\"Best parameters: \", grid_search.best_params_)\n",
        "print(\"Best score: \", np.sqrt(-grid_search.best_score_))\n",
        "\n",
        "#predição no conjunto de teste com o melhor modelo\n",
        "forest_best = grid_search.best_estimator_\n",
        "forest_pred = forest_best.predict(X_test_scaled)\n",
        "\n",
        "#calculo das métricas\n",
        "forest_mse = mean_squared_error(y_test, forest_pred)\n",
        "forest_rmse = np.sqrt(forest_mse)\n",
        "forest_mae = mean_absolute_error(y_test, forest_pred)\n",
        "forest_r2 = r2_score(y_test, forest_pred)\n",
        "\n",
        "#adição das métricas ao dataframe\n",
        "nova_linha = {'Model': 'Random Forest Regressor - Grid Search', 'MSE': forest_mse, 'RMSE': forest_rmse, 'MAE': forest_mae, 'R2': forest_r2}\n",
        "metrics = metrics.append(nova_linha , ignore_index=True)"
      ],
      "metadata": {
        "colab": {
          "base_uri": "https://localhost:8080/"
        },
        "id": "sP25yw6QyiXy",
        "outputId": "fa114ee1-5ad8-49ef-85d0-323061e43553"
      },
      "execution_count": null,
      "outputs": [
        {
          "output_type": "stream",
          "name": "stdout",
          "text": [
            "Best parameters:  {'max_features': 6, 'n_estimators': 30}\n",
            "Best score:  0.49722677493093626\n"
          ]
        },
        {
          "output_type": "stream",
          "name": "stderr",
          "text": [
            "<ipython-input-60-fe51e0318380>:30: FutureWarning: The frame.append method is deprecated and will be removed from pandas in a future version. Use pandas.concat instead.\n",
            "  metrics = metrics.append(nova_linha , ignore_index=True)\n"
          ]
        }
      ]
    },
    {
      "cell_type": "code",
      "source": [
        "metrics"
      ],
      "metadata": {
        "colab": {
          "base_uri": "https://localhost:8080/",
          "height": 206
        },
        "id": "0-dqU95vynbI",
        "outputId": "2139039c-bcd0-494a-e3f5-3d2a64168b13"
      },
      "execution_count": null,
      "outputs": [
        {
          "output_type": "execute_result",
          "data": {
            "text/plain": [
              "                                              Model       MSE      RMSE  \\\n",
              "0                                 Linear Regression  0.466581  0.683067   \n",
              "1                           Decision Tree Regressor  0.282972  0.531951   \n",
              "2  Decision Tree Regressor Otimizado com GridSearch  0.876955  0.936459   \n",
              "3                           Random Forest Regressor  0.178042  0.421950   \n",
              "4             Random Forest Regressor - Grid Search  0.162209  0.402751   \n",
              "\n",
              "        MAE        R2  \n",
              "0  0.438624  0.763921  \n",
              "1  0.259177  0.856822  \n",
              "2  0.735154  0.556281  \n",
              "3  0.231427  0.909915  \n",
              "4  0.214237  0.917926  "
            ],
            "text/html": [
              "\n",
              "  <div id=\"df-ad9d627d-3924-4e2a-a65b-adaaff7c690b\">\n",
              "    <div class=\"colab-df-container\">\n",
              "      <div>\n",
              "<style scoped>\n",
              "    .dataframe tbody tr th:only-of-type {\n",
              "        vertical-align: middle;\n",
              "    }\n",
              "\n",
              "    .dataframe tbody tr th {\n",
              "        vertical-align: top;\n",
              "    }\n",
              "\n",
              "    .dataframe thead th {\n",
              "        text-align: right;\n",
              "    }\n",
              "</style>\n",
              "<table border=\"1\" class=\"dataframe\">\n",
              "  <thead>\n",
              "    <tr style=\"text-align: right;\">\n",
              "      <th></th>\n",
              "      <th>Model</th>\n",
              "      <th>MSE</th>\n",
              "      <th>RMSE</th>\n",
              "      <th>MAE</th>\n",
              "      <th>R2</th>\n",
              "    </tr>\n",
              "  </thead>\n",
              "  <tbody>\n",
              "    <tr>\n",
              "      <th>0</th>\n",
              "      <td>Linear Regression</td>\n",
              "      <td>0.466581</td>\n",
              "      <td>0.683067</td>\n",
              "      <td>0.438624</td>\n",
              "      <td>0.763921</td>\n",
              "    </tr>\n",
              "    <tr>\n",
              "      <th>1</th>\n",
              "      <td>Decision Tree Regressor</td>\n",
              "      <td>0.282972</td>\n",
              "      <td>0.531951</td>\n",
              "      <td>0.259177</td>\n",
              "      <td>0.856822</td>\n",
              "    </tr>\n",
              "    <tr>\n",
              "      <th>2</th>\n",
              "      <td>Decision Tree Regressor Otimizado com GridSearch</td>\n",
              "      <td>0.876955</td>\n",
              "      <td>0.936459</td>\n",
              "      <td>0.735154</td>\n",
              "      <td>0.556281</td>\n",
              "    </tr>\n",
              "    <tr>\n",
              "      <th>3</th>\n",
              "      <td>Random Forest Regressor</td>\n",
              "      <td>0.178042</td>\n",
              "      <td>0.421950</td>\n",
              "      <td>0.231427</td>\n",
              "      <td>0.909915</td>\n",
              "    </tr>\n",
              "    <tr>\n",
              "      <th>4</th>\n",
              "      <td>Random Forest Regressor - Grid Search</td>\n",
              "      <td>0.162209</td>\n",
              "      <td>0.402751</td>\n",
              "      <td>0.214237</td>\n",
              "      <td>0.917926</td>\n",
              "    </tr>\n",
              "  </tbody>\n",
              "</table>\n",
              "</div>\n",
              "      <button class=\"colab-df-convert\" onclick=\"convertToInteractive('df-ad9d627d-3924-4e2a-a65b-adaaff7c690b')\"\n",
              "              title=\"Convert this dataframe to an interactive table.\"\n",
              "              style=\"display:none;\">\n",
              "        \n",
              "  <svg xmlns=\"http://www.w3.org/2000/svg\" height=\"24px\"viewBox=\"0 0 24 24\"\n",
              "       width=\"24px\">\n",
              "    <path d=\"M0 0h24v24H0V0z\" fill=\"none\"/>\n",
              "    <path d=\"M18.56 5.44l.94 2.06.94-2.06 2.06-.94-2.06-.94-.94-2.06-.94 2.06-2.06.94zm-11 1L8.5 8.5l.94-2.06 2.06-.94-2.06-.94L8.5 2.5l-.94 2.06-2.06.94zm10 10l.94 2.06.94-2.06 2.06-.94-2.06-.94-.94-2.06-.94 2.06-2.06.94z\"/><path d=\"M17.41 7.96l-1.37-1.37c-.4-.4-.92-.59-1.43-.59-.52 0-1.04.2-1.43.59L10.3 9.45l-7.72 7.72c-.78.78-.78 2.05 0 2.83L4 21.41c.39.39.9.59 1.41.59.51 0 1.02-.2 1.41-.59l7.78-7.78 2.81-2.81c.8-.78.8-2.07 0-2.86zM5.41 20L4 18.59l7.72-7.72 1.47 1.35L5.41 20z\"/>\n",
              "  </svg>\n",
              "      </button>\n",
              "      \n",
              "  <style>\n",
              "    .colab-df-container {\n",
              "      display:flex;\n",
              "      flex-wrap:wrap;\n",
              "      gap: 12px;\n",
              "    }\n",
              "\n",
              "    .colab-df-convert {\n",
              "      background-color: #E8F0FE;\n",
              "      border: none;\n",
              "      border-radius: 50%;\n",
              "      cursor: pointer;\n",
              "      display: none;\n",
              "      fill: #1967D2;\n",
              "      height: 32px;\n",
              "      padding: 0 0 0 0;\n",
              "      width: 32px;\n",
              "    }\n",
              "\n",
              "    .colab-df-convert:hover {\n",
              "      background-color: #E2EBFA;\n",
              "      box-shadow: 0px 1px 2px rgba(60, 64, 67, 0.3), 0px 1px 3px 1px rgba(60, 64, 67, 0.15);\n",
              "      fill: #174EA6;\n",
              "    }\n",
              "\n",
              "    [theme=dark] .colab-df-convert {\n",
              "      background-color: #3B4455;\n",
              "      fill: #D2E3FC;\n",
              "    }\n",
              "\n",
              "    [theme=dark] .colab-df-convert:hover {\n",
              "      background-color: #434B5C;\n",
              "      box-shadow: 0px 1px 3px 1px rgba(0, 0, 0, 0.15);\n",
              "      filter: drop-shadow(0px 1px 2px rgba(0, 0, 0, 0.3));\n",
              "      fill: #FFFFFF;\n",
              "    }\n",
              "  </style>\n",
              "\n",
              "      <script>\n",
              "        const buttonEl =\n",
              "          document.querySelector('#df-ad9d627d-3924-4e2a-a65b-adaaff7c690b button.colab-df-convert');\n",
              "        buttonEl.style.display =\n",
              "          google.colab.kernel.accessAllowed ? 'block' : 'none';\n",
              "\n",
              "        async function convertToInteractive(key) {\n",
              "          const element = document.querySelector('#df-ad9d627d-3924-4e2a-a65b-adaaff7c690b');\n",
              "          const dataTable =\n",
              "            await google.colab.kernel.invokeFunction('convertToInteractive',\n",
              "                                                     [key], {});\n",
              "          if (!dataTable) return;\n",
              "\n",
              "          const docLinkHtml = 'Like what you see? Visit the ' +\n",
              "            '<a target=\"_blank\" href=https://colab.research.google.com/notebooks/data_table.ipynb>data table notebook</a>'\n",
              "            + ' to learn more about interactive tables.';\n",
              "          element.innerHTML = '';\n",
              "          dataTable['output_type'] = 'display_data';\n",
              "          await google.colab.output.renderOutput(dataTable, element);\n",
              "          const docLink = document.createElement('div');\n",
              "          docLink.innerHTML = docLinkHtml;\n",
              "          element.appendChild(docLink);\n",
              "        }\n",
              "      </script>\n",
              "    </div>\n",
              "  </div>\n",
              "  "
            ]
          },
          "metadata": {},
          "execution_count": 61
        }
      ]
    },
    {
      "cell_type": "markdown",
      "source": [
        "Melhoramos apenas um pouco as métricas mas de todos foi o nosso melhor modelo com um r² de 0,92 e um RMSE de 0,4 , bem próximo do 0,49 que obtivemos na base de validação, o que indica que o modelo está com um desempenho consistente."
      ],
      "metadata": {
        "id": "LdIFG5tX4Wl4"
      }
    },
    {
      "cell_type": "code",
      "source": [
        "#salvando o modelo\n",
        "joblib.dump(forest_best, 'model.pkl')"
      ],
      "metadata": {
        "colab": {
          "base_uri": "https://localhost:8080/"
        },
        "id": "hFNmCrD3PZoo",
        "outputId": "0d2b66a2-1f09-48d7-fb91-488ae10e5ae7"
      },
      "execution_count": null,
      "outputs": [
        {
          "output_type": "execute_result",
          "data": {
            "text/plain": [
              "['model.pkl']"
            ]
          },
          "metadata": {},
          "execution_count": 63
        }
      ]
    },
    {
      "cell_type": "code",
      "source": [
        "#salvando o normalizador do MinMaxScaler\n",
        "joblib.dump(scaler, 'scaler.pkl')"
      ],
      "metadata": {
        "colab": {
          "base_uri": "https://localhost:8080/"
        },
        "id": "7yLXIJqaVFoC",
        "outputId": "a641ca63-585c-4841-a404-7c083f5e0d9d"
      },
      "execution_count": null,
      "outputs": [
        {
          "output_type": "execute_result",
          "data": {
            "text/plain": [
              "['scaler.pkl']"
            ]
          },
          "metadata": {},
          "execution_count": 64
        }
      ]
    }
  ]
}